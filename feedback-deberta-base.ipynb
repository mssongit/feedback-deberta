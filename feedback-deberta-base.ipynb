{
 "cells": [
  {
   "cell_type": "markdown",
   "id": "e7892f81",
   "metadata": {
    "papermill": {
     "duration": 0.006016,
     "end_time": "2022-08-14T11:48:09.046910",
     "exception": false,
     "start_time": "2022-08-14T11:48:09.040894",
     "status": "completed"
    },
    "tags": []
   },
   "source": [
    "# 1. **Importing Libraries and Setting Config**"
   ]
  },
  {
   "cell_type": "code",
   "execution_count": 1,
   "id": "4f25c344",
   "metadata": {
    "papermill": {
     "duration": 7.716523,
     "end_time": "2022-08-14T11:48:16.769509",
     "exception": false,
     "start_time": "2022-08-14T11:48:09.052986",
     "status": "completed"
    },
    "tags": []
   },
   "outputs": [],
   "source": [
    "# The basics\n",
    "import numpy as np\n",
    "import pandas as pd\n",
    "import matplotlib.pyplot as plt\n",
    "import seaborn as sns\n",
    "\n",
    "# All things torch\n",
    "import torch\n",
    "from torch import nn\n",
    "from torch.utils.data import Dataset, DataLoader\n",
    "from torch.optim import AdamW, lr_scheduler\n",
    "\n",
    "# Transformers and other utilities\n",
    "from transformers import AutoModel, AutoTokenizer\n",
    "from sklearn.model_selection import train_test_split\n",
    "from collections import defaultdict\n",
    "import time\n",
    "import os\n",
    "from tqdm import tqdm"
   ]
  },
  {
   "cell_type": "code",
   "execution_count": 2,
   "id": "e0693a5f",
   "metadata": {},
   "outputs": [
    {
     "data": {
      "application/json": {
       "ascii": false,
       "bar_format": null,
       "colour": null,
       "elapsed": 0.023822784423828125,
       "initial": 0,
       "n": 0,
       "ncols": null,
       "nrows": 44,
       "postfix": null,
       "prefix": "Downloading",
       "rate": null,
       "total": 579,
       "unit": "B",
       "unit_divisor": 1024,
       "unit_scale": true
      },
      "application/vnd.jupyter.widget-view+json": {
       "model_id": "527fbefee2074d6bab38dd2bd7bf8627",
       "version_major": 2,
       "version_minor": 0
      },
      "text/plain": [
       "Downloading:   0%|          | 0.00/579 [00:00<?, ?B/s]"
      ]
     },
     "metadata": {},
     "output_type": "display_data"
    },
    {
     "data": {
      "application/json": {
       "ascii": false,
       "bar_format": null,
       "colour": null,
       "elapsed": 0.021770477294921875,
       "initial": 0,
       "n": 0,
       "ncols": null,
       "nrows": 44,
       "postfix": null,
       "prefix": "Downloading",
       "rate": null,
       "total": 371146213,
       "unit": "B",
       "unit_divisor": 1024,
       "unit_scale": true
      },
      "application/vnd.jupyter.widget-view+json": {
       "model_id": "777272ccec26483f87b115d9c4e7f3a9",
       "version_major": 2,
       "version_minor": 0
      },
      "text/plain": [
       "Downloading:   0%|          | 0.00/354M [00:00<?, ?B/s]"
      ]
     },
     "metadata": {},
     "output_type": "display_data"
    },
    {
     "name": "stderr",
     "output_type": "stream",
     "text": [
      "Some weights of the model checkpoint at microsoft/deberta-v3-base were not used when initializing DebertaV2Model: ['lm_predictions.lm_head.dense.weight', 'lm_predictions.lm_head.dense.bias', 'lm_predictions.lm_head.bias', 'mask_predictions.classifier.weight', 'mask_predictions.dense.bias', 'lm_predictions.lm_head.LayerNorm.weight', 'mask_predictions.classifier.bias', 'lm_predictions.lm_head.LayerNorm.bias', 'mask_predictions.LayerNorm.bias', 'mask_predictions.LayerNorm.weight', 'mask_predictions.dense.weight']\n",
      "- This IS expected if you are initializing DebertaV2Model from the checkpoint of a model trained on another task or with another architecture (e.g. initializing a BertForSequenceClassification model from a BertForPreTraining model).\n",
      "- This IS NOT expected if you are initializing DebertaV2Model from the checkpoint of a model that you expect to be exactly identical (initializing a BertForSequenceClassification model from a BertForSequenceClassification model).\n"
     ]
    },
    {
     "data": {
      "application/json": {
       "ascii": false,
       "bar_format": null,
       "colour": null,
       "elapsed": 0.017817258834838867,
       "initial": 0,
       "n": 0,
       "ncols": null,
       "nrows": 44,
       "postfix": null,
       "prefix": "Downloading",
       "rate": null,
       "total": 52,
       "unit": "B",
       "unit_divisor": 1024,
       "unit_scale": true
      },
      "application/vnd.jupyter.widget-view+json": {
       "model_id": "94fcecff9f194a96a6929828f9491d2e",
       "version_major": 2,
       "version_minor": 0
      },
      "text/plain": [
       "Downloading:   0%|          | 0.00/52.0 [00:00<?, ?B/s]"
      ]
     },
     "metadata": {},
     "output_type": "display_data"
    },
    {
     "data": {
      "application/json": {
       "ascii": false,
       "bar_format": null,
       "colour": null,
       "elapsed": 0.01606440544128418,
       "initial": 0,
       "n": 0,
       "ncols": null,
       "nrows": 44,
       "postfix": null,
       "prefix": "Downloading",
       "rate": null,
       "total": 2464616,
       "unit": "B",
       "unit_divisor": 1024,
       "unit_scale": true
      },
      "application/vnd.jupyter.widget-view+json": {
       "model_id": "116d14de7d1b4583b57fbd78f029fc22",
       "version_major": 2,
       "version_minor": 0
      },
      "text/plain": [
       "Downloading:   0%|          | 0.00/2.35M [00:00<?, ?B/s]"
      ]
     },
     "metadata": {},
     "output_type": "display_data"
    },
    {
     "name": "stderr",
     "output_type": "stream",
     "text": [
      "Special tokens have been added in the vocabulary, make sure the associated word embeddings are fine-tuned or trained.\n"
     ]
    }
   ],
   "source": [
    "from transformers import AutoModel, AutoTokenizer\n",
    "\n",
    "model = AutoModel.from_pretrained(\"microsoft/deberta-v3-base\")  # DebertaV2ForModel\n",
    "tokenizer = AutoTokenizer.from_pretrained(\"microsoft/deberta-v3-base\")"
   ]
  },
  {
   "cell_type": "code",
   "execution_count": 3,
   "id": "fc58b2c2",
   "metadata": {},
   "outputs": [
    {
     "data": {
      "text/plain": [
       "DebertaV2Model(\n",
       "  (embeddings): DebertaV2Embeddings(\n",
       "    (word_embeddings): Embedding(128100, 768, padding_idx=0)\n",
       "    (LayerNorm): LayerNorm((768,), eps=1e-07, elementwise_affine=True)\n",
       "    (dropout): StableDropout()\n",
       "  )\n",
       "  (encoder): DebertaV2Encoder(\n",
       "    (layer): ModuleList(\n",
       "      (0): DebertaV2Layer(\n",
       "        (attention): DebertaV2Attention(\n",
       "          (self): DisentangledSelfAttention(\n",
       "            (query_proj): Linear(in_features=768, out_features=768, bias=True)\n",
       "            (key_proj): Linear(in_features=768, out_features=768, bias=True)\n",
       "            (value_proj): Linear(in_features=768, out_features=768, bias=True)\n",
       "            (pos_dropout): StableDropout()\n",
       "            (dropout): StableDropout()\n",
       "          )\n",
       "          (output): DebertaV2SelfOutput(\n",
       "            (dense): Linear(in_features=768, out_features=768, bias=True)\n",
       "            (LayerNorm): LayerNorm((768,), eps=1e-07, elementwise_affine=True)\n",
       "            (dropout): StableDropout()\n",
       "          )\n",
       "        )\n",
       "        (intermediate): DebertaV2Intermediate(\n",
       "          (dense): Linear(in_features=768, out_features=3072, bias=True)\n",
       "        )\n",
       "        (output): DebertaV2Output(\n",
       "          (dense): Linear(in_features=3072, out_features=768, bias=True)\n",
       "          (LayerNorm): LayerNorm((768,), eps=1e-07, elementwise_affine=True)\n",
       "          (dropout): StableDropout()\n",
       "        )\n",
       "      )\n",
       "      (1): DebertaV2Layer(\n",
       "        (attention): DebertaV2Attention(\n",
       "          (self): DisentangledSelfAttention(\n",
       "            (query_proj): Linear(in_features=768, out_features=768, bias=True)\n",
       "            (key_proj): Linear(in_features=768, out_features=768, bias=True)\n",
       "            (value_proj): Linear(in_features=768, out_features=768, bias=True)\n",
       "            (pos_dropout): StableDropout()\n",
       "            (dropout): StableDropout()\n",
       "          )\n",
       "          (output): DebertaV2SelfOutput(\n",
       "            (dense): Linear(in_features=768, out_features=768, bias=True)\n",
       "            (LayerNorm): LayerNorm((768,), eps=1e-07, elementwise_affine=True)\n",
       "            (dropout): StableDropout()\n",
       "          )\n",
       "        )\n",
       "        (intermediate): DebertaV2Intermediate(\n",
       "          (dense): Linear(in_features=768, out_features=3072, bias=True)\n",
       "        )\n",
       "        (output): DebertaV2Output(\n",
       "          (dense): Linear(in_features=3072, out_features=768, bias=True)\n",
       "          (LayerNorm): LayerNorm((768,), eps=1e-07, elementwise_affine=True)\n",
       "          (dropout): StableDropout()\n",
       "        )\n",
       "      )\n",
       "      (2): DebertaV2Layer(\n",
       "        (attention): DebertaV2Attention(\n",
       "          (self): DisentangledSelfAttention(\n",
       "            (query_proj): Linear(in_features=768, out_features=768, bias=True)\n",
       "            (key_proj): Linear(in_features=768, out_features=768, bias=True)\n",
       "            (value_proj): Linear(in_features=768, out_features=768, bias=True)\n",
       "            (pos_dropout): StableDropout()\n",
       "            (dropout): StableDropout()\n",
       "          )\n",
       "          (output): DebertaV2SelfOutput(\n",
       "            (dense): Linear(in_features=768, out_features=768, bias=True)\n",
       "            (LayerNorm): LayerNorm((768,), eps=1e-07, elementwise_affine=True)\n",
       "            (dropout): StableDropout()\n",
       "          )\n",
       "        )\n",
       "        (intermediate): DebertaV2Intermediate(\n",
       "          (dense): Linear(in_features=768, out_features=3072, bias=True)\n",
       "        )\n",
       "        (output): DebertaV2Output(\n",
       "          (dense): Linear(in_features=3072, out_features=768, bias=True)\n",
       "          (LayerNorm): LayerNorm((768,), eps=1e-07, elementwise_affine=True)\n",
       "          (dropout): StableDropout()\n",
       "        )\n",
       "      )\n",
       "      (3): DebertaV2Layer(\n",
       "        (attention): DebertaV2Attention(\n",
       "          (self): DisentangledSelfAttention(\n",
       "            (query_proj): Linear(in_features=768, out_features=768, bias=True)\n",
       "            (key_proj): Linear(in_features=768, out_features=768, bias=True)\n",
       "            (value_proj): Linear(in_features=768, out_features=768, bias=True)\n",
       "            (pos_dropout): StableDropout()\n",
       "            (dropout): StableDropout()\n",
       "          )\n",
       "          (output): DebertaV2SelfOutput(\n",
       "            (dense): Linear(in_features=768, out_features=768, bias=True)\n",
       "            (LayerNorm): LayerNorm((768,), eps=1e-07, elementwise_affine=True)\n",
       "            (dropout): StableDropout()\n",
       "          )\n",
       "        )\n",
       "        (intermediate): DebertaV2Intermediate(\n",
       "          (dense): Linear(in_features=768, out_features=3072, bias=True)\n",
       "        )\n",
       "        (output): DebertaV2Output(\n",
       "          (dense): Linear(in_features=3072, out_features=768, bias=True)\n",
       "          (LayerNorm): LayerNorm((768,), eps=1e-07, elementwise_affine=True)\n",
       "          (dropout): StableDropout()\n",
       "        )\n",
       "      )\n",
       "      (4): DebertaV2Layer(\n",
       "        (attention): DebertaV2Attention(\n",
       "          (self): DisentangledSelfAttention(\n",
       "            (query_proj): Linear(in_features=768, out_features=768, bias=True)\n",
       "            (key_proj): Linear(in_features=768, out_features=768, bias=True)\n",
       "            (value_proj): Linear(in_features=768, out_features=768, bias=True)\n",
       "            (pos_dropout): StableDropout()\n",
       "            (dropout): StableDropout()\n",
       "          )\n",
       "          (output): DebertaV2SelfOutput(\n",
       "            (dense): Linear(in_features=768, out_features=768, bias=True)\n",
       "            (LayerNorm): LayerNorm((768,), eps=1e-07, elementwise_affine=True)\n",
       "            (dropout): StableDropout()\n",
       "          )\n",
       "        )\n",
       "        (intermediate): DebertaV2Intermediate(\n",
       "          (dense): Linear(in_features=768, out_features=3072, bias=True)\n",
       "        )\n",
       "        (output): DebertaV2Output(\n",
       "          (dense): Linear(in_features=3072, out_features=768, bias=True)\n",
       "          (LayerNorm): LayerNorm((768,), eps=1e-07, elementwise_affine=True)\n",
       "          (dropout): StableDropout()\n",
       "        )\n",
       "      )\n",
       "      (5): DebertaV2Layer(\n",
       "        (attention): DebertaV2Attention(\n",
       "          (self): DisentangledSelfAttention(\n",
       "            (query_proj): Linear(in_features=768, out_features=768, bias=True)\n",
       "            (key_proj): Linear(in_features=768, out_features=768, bias=True)\n",
       "            (value_proj): Linear(in_features=768, out_features=768, bias=True)\n",
       "            (pos_dropout): StableDropout()\n",
       "            (dropout): StableDropout()\n",
       "          )\n",
       "          (output): DebertaV2SelfOutput(\n",
       "            (dense): Linear(in_features=768, out_features=768, bias=True)\n",
       "            (LayerNorm): LayerNorm((768,), eps=1e-07, elementwise_affine=True)\n",
       "            (dropout): StableDropout()\n",
       "          )\n",
       "        )\n",
       "        (intermediate): DebertaV2Intermediate(\n",
       "          (dense): Linear(in_features=768, out_features=3072, bias=True)\n",
       "        )\n",
       "        (output): DebertaV2Output(\n",
       "          (dense): Linear(in_features=3072, out_features=768, bias=True)\n",
       "          (LayerNorm): LayerNorm((768,), eps=1e-07, elementwise_affine=True)\n",
       "          (dropout): StableDropout()\n",
       "        )\n",
       "      )\n",
       "      (6): DebertaV2Layer(\n",
       "        (attention): DebertaV2Attention(\n",
       "          (self): DisentangledSelfAttention(\n",
       "            (query_proj): Linear(in_features=768, out_features=768, bias=True)\n",
       "            (key_proj): Linear(in_features=768, out_features=768, bias=True)\n",
       "            (value_proj): Linear(in_features=768, out_features=768, bias=True)\n",
       "            (pos_dropout): StableDropout()\n",
       "            (dropout): StableDropout()\n",
       "          )\n",
       "          (output): DebertaV2SelfOutput(\n",
       "            (dense): Linear(in_features=768, out_features=768, bias=True)\n",
       "            (LayerNorm): LayerNorm((768,), eps=1e-07, elementwise_affine=True)\n",
       "            (dropout): StableDropout()\n",
       "          )\n",
       "        )\n",
       "        (intermediate): DebertaV2Intermediate(\n",
       "          (dense): Linear(in_features=768, out_features=3072, bias=True)\n",
       "        )\n",
       "        (output): DebertaV2Output(\n",
       "          (dense): Linear(in_features=3072, out_features=768, bias=True)\n",
       "          (LayerNorm): LayerNorm((768,), eps=1e-07, elementwise_affine=True)\n",
       "          (dropout): StableDropout()\n",
       "        )\n",
       "      )\n",
       "      (7): DebertaV2Layer(\n",
       "        (attention): DebertaV2Attention(\n",
       "          (self): DisentangledSelfAttention(\n",
       "            (query_proj): Linear(in_features=768, out_features=768, bias=True)\n",
       "            (key_proj): Linear(in_features=768, out_features=768, bias=True)\n",
       "            (value_proj): Linear(in_features=768, out_features=768, bias=True)\n",
       "            (pos_dropout): StableDropout()\n",
       "            (dropout): StableDropout()\n",
       "          )\n",
       "          (output): DebertaV2SelfOutput(\n",
       "            (dense): Linear(in_features=768, out_features=768, bias=True)\n",
       "            (LayerNorm): LayerNorm((768,), eps=1e-07, elementwise_affine=True)\n",
       "            (dropout): StableDropout()\n",
       "          )\n",
       "        )\n",
       "        (intermediate): DebertaV2Intermediate(\n",
       "          (dense): Linear(in_features=768, out_features=3072, bias=True)\n",
       "        )\n",
       "        (output): DebertaV2Output(\n",
       "          (dense): Linear(in_features=3072, out_features=768, bias=True)\n",
       "          (LayerNorm): LayerNorm((768,), eps=1e-07, elementwise_affine=True)\n",
       "          (dropout): StableDropout()\n",
       "        )\n",
       "      )\n",
       "      (8): DebertaV2Layer(\n",
       "        (attention): DebertaV2Attention(\n",
       "          (self): DisentangledSelfAttention(\n",
       "            (query_proj): Linear(in_features=768, out_features=768, bias=True)\n",
       "            (key_proj): Linear(in_features=768, out_features=768, bias=True)\n",
       "            (value_proj): Linear(in_features=768, out_features=768, bias=True)\n",
       "            (pos_dropout): StableDropout()\n",
       "            (dropout): StableDropout()\n",
       "          )\n",
       "          (output): DebertaV2SelfOutput(\n",
       "            (dense): Linear(in_features=768, out_features=768, bias=True)\n",
       "            (LayerNorm): LayerNorm((768,), eps=1e-07, elementwise_affine=True)\n",
       "            (dropout): StableDropout()\n",
       "          )\n",
       "        )\n",
       "        (intermediate): DebertaV2Intermediate(\n",
       "          (dense): Linear(in_features=768, out_features=3072, bias=True)\n",
       "        )\n",
       "        (output): DebertaV2Output(\n",
       "          (dense): Linear(in_features=3072, out_features=768, bias=True)\n",
       "          (LayerNorm): LayerNorm((768,), eps=1e-07, elementwise_affine=True)\n",
       "          (dropout): StableDropout()\n",
       "        )\n",
       "      )\n",
       "      (9): DebertaV2Layer(\n",
       "        (attention): DebertaV2Attention(\n",
       "          (self): DisentangledSelfAttention(\n",
       "            (query_proj): Linear(in_features=768, out_features=768, bias=True)\n",
       "            (key_proj): Linear(in_features=768, out_features=768, bias=True)\n",
       "            (value_proj): Linear(in_features=768, out_features=768, bias=True)\n",
       "            (pos_dropout): StableDropout()\n",
       "            (dropout): StableDropout()\n",
       "          )\n",
       "          (output): DebertaV2SelfOutput(\n",
       "            (dense): Linear(in_features=768, out_features=768, bias=True)\n",
       "            (LayerNorm): LayerNorm((768,), eps=1e-07, elementwise_affine=True)\n",
       "            (dropout): StableDropout()\n",
       "          )\n",
       "        )\n",
       "        (intermediate): DebertaV2Intermediate(\n",
       "          (dense): Linear(in_features=768, out_features=3072, bias=True)\n",
       "        )\n",
       "        (output): DebertaV2Output(\n",
       "          (dense): Linear(in_features=3072, out_features=768, bias=True)\n",
       "          (LayerNorm): LayerNorm((768,), eps=1e-07, elementwise_affine=True)\n",
       "          (dropout): StableDropout()\n",
       "        )\n",
       "      )\n",
       "      (10): DebertaV2Layer(\n",
       "        (attention): DebertaV2Attention(\n",
       "          (self): DisentangledSelfAttention(\n",
       "            (query_proj): Linear(in_features=768, out_features=768, bias=True)\n",
       "            (key_proj): Linear(in_features=768, out_features=768, bias=True)\n",
       "            (value_proj): Linear(in_features=768, out_features=768, bias=True)\n",
       "            (pos_dropout): StableDropout()\n",
       "            (dropout): StableDropout()\n",
       "          )\n",
       "          (output): DebertaV2SelfOutput(\n",
       "            (dense): Linear(in_features=768, out_features=768, bias=True)\n",
       "            (LayerNorm): LayerNorm((768,), eps=1e-07, elementwise_affine=True)\n",
       "            (dropout): StableDropout()\n",
       "          )\n",
       "        )\n",
       "        (intermediate): DebertaV2Intermediate(\n",
       "          (dense): Linear(in_features=768, out_features=3072, bias=True)\n",
       "        )\n",
       "        (output): DebertaV2Output(\n",
       "          (dense): Linear(in_features=3072, out_features=768, bias=True)\n",
       "          (LayerNorm): LayerNorm((768,), eps=1e-07, elementwise_affine=True)\n",
       "          (dropout): StableDropout()\n",
       "        )\n",
       "      )\n",
       "      (11): DebertaV2Layer(\n",
       "        (attention): DebertaV2Attention(\n",
       "          (self): DisentangledSelfAttention(\n",
       "            (query_proj): Linear(in_features=768, out_features=768, bias=True)\n",
       "            (key_proj): Linear(in_features=768, out_features=768, bias=True)\n",
       "            (value_proj): Linear(in_features=768, out_features=768, bias=True)\n",
       "            (pos_dropout): StableDropout()\n",
       "            (dropout): StableDropout()\n",
       "          )\n",
       "          (output): DebertaV2SelfOutput(\n",
       "            (dense): Linear(in_features=768, out_features=768, bias=True)\n",
       "            (LayerNorm): LayerNorm((768,), eps=1e-07, elementwise_affine=True)\n",
       "            (dropout): StableDropout()\n",
       "          )\n",
       "        )\n",
       "        (intermediate): DebertaV2Intermediate(\n",
       "          (dense): Linear(in_features=768, out_features=3072, bias=True)\n",
       "        )\n",
       "        (output): DebertaV2Output(\n",
       "          (dense): Linear(in_features=3072, out_features=768, bias=True)\n",
       "          (LayerNorm): LayerNorm((768,), eps=1e-07, elementwise_affine=True)\n",
       "          (dropout): StableDropout()\n",
       "        )\n",
       "      )\n",
       "    )\n",
       "    (rel_embeddings): Embedding(512, 768)\n",
       "    (LayerNorm): LayerNorm((768,), eps=1e-07, elementwise_affine=True)\n",
       "  )\n",
       ")"
      ]
     },
     "execution_count": 3,
     "metadata": {},
     "output_type": "execute_result"
    }
   ],
   "source": [
    "model"
   ]
  },
  {
   "cell_type": "code",
   "execution_count": 15,
   "id": "2a6198fd",
   "metadata": {
    "papermill": {
     "duration": 0.079127,
     "end_time": "2022-08-14T11:48:16.855868",
     "exception": false,
     "start_time": "2022-08-14T11:48:16.776741",
     "status": "completed"
    },
    "tags": []
   },
   "outputs": [],
   "source": [
    "CONFIG = {\n",
    "    'batch_size': 8, \n",
    "    'epochs': 7, \n",
    "    'lr': 2e-5,\n",
    "    'n_accumulate': 8, # For Gradient Accumulation\n",
    "    'pretrained_model_path': 'microsoft/deberta-v3-base',\n",
    "    'weight_decay': 1e-6,\n",
    "    'seed': 2022,\n",
    "    'device': torch.device('cuda' if torch.cuda.is_available() else 'cpu'),\n",
    "    'patience': 3, # For early stopping\n",
    "    'saved_model_path': \"saved_model_state_deberta.pt\" # To save best model weights for inference.\n",
    "}"
   ]
  },
  {
   "cell_type": "markdown",
   "id": "c31ab7c5",
   "metadata": {
    "papermill": {
     "duration": 0.006228,
     "end_time": "2022-08-14T11:48:16.868913",
     "exception": false,
     "start_time": "2022-08-14T11:48:16.862685",
     "status": "completed"
    },
    "tags": []
   },
   "source": [
    "# 2. Data Preparation and EDA"
   ]
  },
  {
   "cell_type": "markdown",
   "id": "6970854a",
   "metadata": {
    "papermill": {
     "duration": 0.006056,
     "end_time": "2022-08-14T11:48:16.881286",
     "exception": false,
     "start_time": "2022-08-14T11:48:16.875230",
     "status": "completed"
    },
    "tags": []
   },
   "source": [
    "> ### **Read Data and Fetch and clean essay texts from directory.**"
   ]
  },
  {
   "cell_type": "code",
   "execution_count": 8,
   "id": "ff3408b8",
   "metadata": {
    "papermill": {
     "duration": 12.782343,
     "end_time": "2022-08-14T11:48:29.669571",
     "exception": false,
     "start_time": "2022-08-14T11:48:16.887228",
     "status": "completed"
    },
    "tags": []
   },
   "outputs": [
    {
     "data": {
      "text/html": [
       "<div>\n",
       "<style scoped>\n",
       "    .dataframe tbody tr th:only-of-type {\n",
       "        vertical-align: middle;\n",
       "    }\n",
       "\n",
       "    .dataframe tbody tr th {\n",
       "        vertical-align: top;\n",
       "    }\n",
       "\n",
       "    .dataframe thead th {\n",
       "        text-align: right;\n",
       "    }\n",
       "</style>\n",
       "<table border=\"1\" class=\"dataframe\">\n",
       "  <thead>\n",
       "    <tr style=\"text-align: right;\">\n",
       "      <th></th>\n",
       "      <th>discourse_id</th>\n",
       "      <th>essay_id</th>\n",
       "      <th>discourse_text</th>\n",
       "      <th>discourse_type</th>\n",
       "      <th>discourse_effectiveness</th>\n",
       "      <th>essay_text</th>\n",
       "    </tr>\n",
       "  </thead>\n",
       "  <tbody>\n",
       "    <tr>\n",
       "      <th>0</th>\n",
       "      <td>0013cc385424</td>\n",
       "      <td>007ACE74B050</td>\n",
       "      <td>Hi, i'm Isaac, i'm going to be writing about h...</td>\n",
       "      <td>Lead</td>\n",
       "      <td>Adequate</td>\n",
       "      <td>Hi, i'm Isaac, i'm going to be writing about h...</td>\n",
       "    </tr>\n",
       "    <tr>\n",
       "      <th>1</th>\n",
       "      <td>9704a709b505</td>\n",
       "      <td>007ACE74B050</td>\n",
       "      <td>On my perspective, I think that the face is a ...</td>\n",
       "      <td>Position</td>\n",
       "      <td>Adequate</td>\n",
       "      <td>Hi, i'm Isaac, i'm going to be writing about h...</td>\n",
       "    </tr>\n",
       "    <tr>\n",
       "      <th>2</th>\n",
       "      <td>c22adee811b6</td>\n",
       "      <td>007ACE74B050</td>\n",
       "      <td>I think that the face is a natural landform be...</td>\n",
       "      <td>Claim</td>\n",
       "      <td>Adequate</td>\n",
       "      <td>Hi, i'm Isaac, i'm going to be writing about h...</td>\n",
       "    </tr>\n",
       "    <tr>\n",
       "      <th>3</th>\n",
       "      <td>a10d361e54e4</td>\n",
       "      <td>007ACE74B050</td>\n",
       "      <td>If life was on Mars, we would know by now. The...</td>\n",
       "      <td>Evidence</td>\n",
       "      <td>Adequate</td>\n",
       "      <td>Hi, i'm Isaac, i'm going to be writing about h...</td>\n",
       "    </tr>\n",
       "    <tr>\n",
       "      <th>4</th>\n",
       "      <td>db3e453ec4e2</td>\n",
       "      <td>007ACE74B050</td>\n",
       "      <td>People thought that the face was formed by ali...</td>\n",
       "      <td>Counterclaim</td>\n",
       "      <td>Adequate</td>\n",
       "      <td>Hi, i'm Isaac, i'm going to be writing about h...</td>\n",
       "    </tr>\n",
       "    <tr>\n",
       "      <th>...</th>\n",
       "      <td>...</td>\n",
       "      <td>...</td>\n",
       "      <td>...</td>\n",
       "      <td>...</td>\n",
       "      <td>...</td>\n",
       "      <td>...</td>\n",
       "    </tr>\n",
       "    <tr>\n",
       "      <th>36760</th>\n",
       "      <td>9f63b687e76a</td>\n",
       "      <td>FFA381E58FC6</td>\n",
       "      <td>For many people they don't like only asking on...</td>\n",
       "      <td>Claim</td>\n",
       "      <td>Adequate</td>\n",
       "      <td>Some people may ask multiple people for advice...</td>\n",
       "    </tr>\n",
       "    <tr>\n",
       "      <th>36761</th>\n",
       "      <td>9d5bd7d86212</td>\n",
       "      <td>FFA381E58FC6</td>\n",
       "      <td>also people have different views and opinions ...</td>\n",
       "      <td>Claim</td>\n",
       "      <td>Adequate</td>\n",
       "      <td>Some people may ask multiple people for advice...</td>\n",
       "    </tr>\n",
       "    <tr>\n",
       "      <th>36762</th>\n",
       "      <td>f1b78becd573</td>\n",
       "      <td>FFA381E58FC6</td>\n",
       "      <td>Advice is something that can impact a persons ...</td>\n",
       "      <td>Position</td>\n",
       "      <td>Adequate</td>\n",
       "      <td>Some people may ask multiple people for advice...</td>\n",
       "    </tr>\n",
       "    <tr>\n",
       "      <th>36763</th>\n",
       "      <td>cc184624ca8e</td>\n",
       "      <td>FFA381E58FC6</td>\n",
       "      <td>someone can use everything that many people sa...</td>\n",
       "      <td>Evidence</td>\n",
       "      <td>Ineffective</td>\n",
       "      <td>Some people may ask multiple people for advice...</td>\n",
       "    </tr>\n",
       "    <tr>\n",
       "      <th>36764</th>\n",
       "      <td>c8a973681feb</td>\n",
       "      <td>FFA381E58FC6</td>\n",
       "      <td>In conclusion asking for an opinion can be ben...</td>\n",
       "      <td>Concluding Statement</td>\n",
       "      <td>Ineffective</td>\n",
       "      <td>Some people may ask multiple people for advice...</td>\n",
       "    </tr>\n",
       "  </tbody>\n",
       "</table>\n",
       "<p>36765 rows × 6 columns</p>\n",
       "</div>"
      ],
      "text/plain": [
       "       discourse_id      essay_id  \\\n",
       "0      0013cc385424  007ACE74B050   \n",
       "1      9704a709b505  007ACE74B050   \n",
       "2      c22adee811b6  007ACE74B050   \n",
       "3      a10d361e54e4  007ACE74B050   \n",
       "4      db3e453ec4e2  007ACE74B050   \n",
       "...             ...           ...   \n",
       "36760  9f63b687e76a  FFA381E58FC6   \n",
       "36761  9d5bd7d86212  FFA381E58FC6   \n",
       "36762  f1b78becd573  FFA381E58FC6   \n",
       "36763  cc184624ca8e  FFA381E58FC6   \n",
       "36764  c8a973681feb  FFA381E58FC6   \n",
       "\n",
       "                                          discourse_text  \\\n",
       "0      Hi, i'm Isaac, i'm going to be writing about h...   \n",
       "1      On my perspective, I think that the face is a ...   \n",
       "2      I think that the face is a natural landform be...   \n",
       "3      If life was on Mars, we would know by now. The...   \n",
       "4      People thought that the face was formed by ali...   \n",
       "...                                                  ...   \n",
       "36760  For many people they don't like only asking on...   \n",
       "36761  also people have different views and opinions ...   \n",
       "36762  Advice is something that can impact a persons ...   \n",
       "36763  someone can use everything that many people sa...   \n",
       "36764  In conclusion asking for an opinion can be ben...   \n",
       "\n",
       "             discourse_type discourse_effectiveness  \\\n",
       "0                      Lead                Adequate   \n",
       "1                  Position                Adequate   \n",
       "2                     Claim                Adequate   \n",
       "3                  Evidence                Adequate   \n",
       "4              Counterclaim                Adequate   \n",
       "...                     ...                     ...   \n",
       "36760                 Claim                Adequate   \n",
       "36761                 Claim                Adequate   \n",
       "36762              Position                Adequate   \n",
       "36763              Evidence             Ineffective   \n",
       "36764  Concluding Statement             Ineffective   \n",
       "\n",
       "                                              essay_text  \n",
       "0      Hi, i'm Isaac, i'm going to be writing about h...  \n",
       "1      Hi, i'm Isaac, i'm going to be writing about h...  \n",
       "2      Hi, i'm Isaac, i'm going to be writing about h...  \n",
       "3      Hi, i'm Isaac, i'm going to be writing about h...  \n",
       "4      Hi, i'm Isaac, i'm going to be writing about h...  \n",
       "...                                                  ...  \n",
       "36760  Some people may ask multiple people for advice...  \n",
       "36761  Some people may ask multiple people for advice...  \n",
       "36762  Some people may ask multiple people for advice...  \n",
       "36763  Some people may ask multiple people for advice...  \n",
       "36764  Some people may ask multiple people for advice...  \n",
       "\n",
       "[36765 rows x 6 columns]"
      ]
     },
     "execution_count": 8,
     "metadata": {},
     "output_type": "execute_result"
    }
   ],
   "source": [
    "data = pd.read_csv('./input/train.csv')\n",
    "test_data = pd.read_csv('./input/test.csv')\n",
    "\n",
    "def fetch_essay_texts(df, train=True):\n",
    "    if train:\n",
    "        base_path = './input/train/'\n",
    "    else:\n",
    "        base_path = './input/test/'\n",
    "        \n",
    "    essay_texts = {}\n",
    "    for filename in os.listdir(base_path):\n",
    "        with open(base_path + filename) as f:\n",
    "            text = f.readlines()\n",
    "            full_text = ' '.join([x for x in text])\n",
    "            essay_text = ' '.join([x for x in full_text.split()])\n",
    "        essay_texts[filename[:-4]] = essay_text\n",
    "    df['essay_text'] = [essay_texts[essay_id] for essay_id in df['essay_id'].values]   \n",
    "    return df\n",
    "    \n",
    "data = fetch_essay_texts(data)\n",
    "data"
   ]
  },
  {
   "cell_type": "markdown",
   "id": "4df64fcb",
   "metadata": {
    "papermill": {
     "duration": 0.006549,
     "end_time": "2022-08-14T11:48:29.683425",
     "exception": false,
     "start_time": "2022-08-14T11:48:29.676876",
     "status": "completed"
    },
    "tags": []
   },
   "source": [
    "> ### **Distribution of Target - Discourse Effectiveness and Discourse Type variables.**"
   ]
  },
  {
   "cell_type": "code",
   "execution_count": 9,
   "id": "e92c9ff8",
   "metadata": {
    "papermill": {
     "duration": 0.438321,
     "end_time": "2022-08-14T11:48:30.128164",
     "exception": false,
     "start_time": "2022-08-14T11:48:29.689843",
     "status": "completed"
    },
    "tags": []
   },
   "outputs": [
    {
     "data": {
      "image/png": "[encoded data removed]",
      "text/plain": [
       "<Figure size 900x400 with 2 Axes>"
      ]
     },
     "metadata": {},
     "output_type": "display_data"
    }
   ],
   "source": [
    "fig, ax = plt.subplots(1, 2, figsize=(9,4))\n",
    "# Distribution of target labels - discourse effectiveness\n",
    "sns.countplot(x = data['discourse_effectiveness'], ax=ax[0])\n",
    "# Distribution of discourse types\n",
    "plot = sns.countplot(x = data['discourse_type'], ax=ax[1])\n",
    "plot.set_xticklabels(plot.get_xticklabels(), rotation=45, horizontalalignment='right')\n",
    "fig.tight_layout()"
   ]
  },
  {
   "cell_type": "markdown",
   "id": "3c4730c0",
   "metadata": {
    "papermill": {
     "duration": 0.006704,
     "end_time": "2022-08-14T11:48:30.142093",
     "exception": false,
     "start_time": "2022-08-14T11:48:30.135389",
     "status": "completed"
    },
    "tags": []
   },
   "source": [
    "> ### **Distribution of discourse types by target**"
   ]
  },
  {
   "cell_type": "code",
   "execution_count": 10,
   "id": "6a0a3f05",
   "metadata": {
    "papermill": {
     "duration": 0.550092,
     "end_time": "2022-08-14T11:48:30.698707",
     "exception": false,
     "start_time": "2022-08-14T11:48:30.148615",
     "status": "completed"
    },
    "tags": []
   },
   "outputs": [
    {
     "data": {
      "image/png": "[encoded data removed]",
      "text/plain": [
       "<Figure size 1000x400 with 3 Axes>"
      ]
     },
     "metadata": {},
     "output_type": "display_data"
    }
   ],
   "source": [
    "# Distribution of discourse types by target label.\n",
    "fig, ax = plt.subplots(1, 3, figsize=(10,4))\n",
    "for idx, label in enumerate(np.unique(data['discourse_effectiveness'])):\n",
    "    plot = sns.countplot(x=data[data['discourse_effectiveness'] == label]['discourse_type'], ax=ax[idx])\n",
    "    plot.set_xticklabels(plot.get_xticklabels(), rotation=45, horizontalalignment='right')\n",
    "    ax[idx].set_title(label)\n",
    "fig.tight_layout()\n"
   ]
  },
  {
   "cell_type": "code",
   "execution_count": 11,
   "id": "f9651a5b",
   "metadata": {
    "papermill": {
     "duration": 0.045502,
     "end_time": "2022-08-14T11:48:30.751893",
     "exception": false,
     "start_time": "2022-08-14T11:48:30.706391",
     "status": "completed"
    },
    "tags": []
   },
   "outputs": [],
   "source": [
    "# Encode target variable and create train-val split\n",
    "label_dict = {'Effective': 0, 'Adequate': 1, 'Ineffective': 2}\n",
    "data['discourse_effectiveness'].replace(label_dict, inplace=True)\n",
    "data.drop(['discourse_id', 'essay_id'], axis=1, inplace=True)\n",
    "train_data, val_data = train_test_split(data, random_state=42, train_size=0.9)"
   ]
  },
  {
   "cell_type": "markdown",
   "id": "d72579cc",
   "metadata": {
    "papermill": {
     "duration": 0.007351,
     "end_time": "2022-08-14T11:48:30.766721",
     "exception": false,
     "start_time": "2022-08-14T11:48:30.759370",
     "status": "completed"
    },
    "tags": []
   },
   "source": [
    "> ### **Setting seeds for reproducibility of results**\n",
    "#### Useful Link: [CUDA Determinism](https://pytorch.org/docs/stable/notes/randomness.html#cuda-convolution-benchmarking)"
   ]
  },
  {
   "cell_type": "code",
   "execution_count": 12,
   "id": "7047ff8c",
   "metadata": {
    "papermill": {
     "duration": 0.020931,
     "end_time": "2022-08-14T11:48:30.795022",
     "exception": false,
     "start_time": "2022-08-14T11:48:30.774091",
     "status": "completed"
    },
    "tags": []
   },
   "outputs": [],
   "source": [
    "def set_seed(seed=CONFIG['seed']):\n",
    "    np.random.seed(seed)\n",
    "    torch.manual_seed(seed)\n",
    "    torch.cuda.manual_seed(seed)\n",
    "    torch.backends.cudnn.deterministic = True\n",
    "    torch.backends.cudnn.benchmark = True\n",
    "    os.environ['PYTHONHASHSEED'] = str(seed)\n",
    "    \n",
    "set_seed()"
   ]
  },
  {
   "cell_type": "markdown",
   "id": "db92d58d",
   "metadata": {
    "papermill": {
     "duration": 0.006993,
     "end_time": "2022-08-14T11:48:30.809635",
     "exception": false,
     "start_time": "2022-08-14T11:48:30.802642",
     "status": "completed"
    },
    "tags": []
   },
   "source": [
    "# 3. Torch Essentials - Dataset, DataLoader and Model"
   ]
  },
  {
   "cell_type": "markdown",
   "id": "dab25a43",
   "metadata": {
    "papermill": {
     "duration": 0.007203,
     "end_time": "2022-08-14T11:48:30.824658",
     "exception": false,
     "start_time": "2022-08-14T11:48:30.817455",
     "status": "completed"
    },
    "tags": []
   },
   "source": [
    "*  #### The custom **dataset** class inherits from the torch.utils.data.Dataset class and MUST contain the __len__ and __getitem__ methods in addition to the constructor. \n",
    "* #### __len__ returns the total number of observations, while __getitem__ fetches the required data from a specified index - this is usually the tokenized output required for training the model and is accessed through the DataLoader.\n",
    "* #### For the Siamese training approach, we create two sentences and tokenize them separately. \n",
    "    #### 1. Sentence A: discourse_type + [SEP] + discourse_text\n",
    "    #### 2. Sentence B: essay text"
   ]
  },
  {
   "cell_type": "code",
   "execution_count": 13,
   "id": "12afbf90",
   "metadata": {
    "papermill": {
     "duration": 0.022242,
     "end_time": "2022-08-14T11:48:30.854433",
     "exception": false,
     "start_time": "2022-08-14T11:48:30.832191",
     "status": "completed"
    },
    "tags": []
   },
   "outputs": [],
   "source": [
    "class FeedbackDataset(Dataset):\n",
    "    def __init__(self, tokenizer, essay_text, discourse_type, discourse_text, effectiveness):\n",
    "        self.essay_text = essay_text\n",
    "        self.discourse_type = discourse_type\n",
    "        self.discourse_text = discourse_text\n",
    "        self.target = effectiveness\n",
    "        self.tokenizer = tokenizer\n",
    "    \n",
    "    def __len__(self):\n",
    "        return len(self.discourse_text)\n",
    "    \n",
    "    def __getitem__(self, idx):\n",
    "        # Sentence A\n",
    "        input_discourse = self.discourse_type[idx] + ' ' + self.tokenizer.sep_token + ' ' + self.discourse_text[idx]\n",
    "        tokenized_discourse = self.tokenizer.encode_plus(\n",
    "                            input_discourse,\n",
    "                            return_token_type_ids=False,\n",
    "                            return_attention_mask=True,\n",
    "                            max_length=512,\n",
    "                            truncation=True,\n",
    "                            padding='max_length',\n",
    "                            add_special_tokens=True,\n",
    "                            return_tensors='pt'\n",
    "                        )\n",
    "        # Sentence B\n",
    "        tokenized_essay = self.tokenizer.encode_plus(\n",
    "                            self.essay_text[idx],\n",
    "                            return_token_type_ids=False,\n",
    "                            return_attention_mask=True,\n",
    "                            max_length=512,\n",
    "                            truncation=True,\n",
    "                            padding='max_length',\n",
    "                            add_special_tokens=True,\n",
    "                            return_tensors='pt',\n",
    "                        )\n",
    "        return {\n",
    "            'discourse_input_ids': tokenized_discourse['input_ids'].flatten(),\n",
    "            'discourse_attention_mask': tokenized_discourse['attention_mask'].flatten(),\n",
    "            'essay_input_ids': tokenized_essay['input_ids'].flatten(),\n",
    "            'essay_attention_mask': tokenized_essay['attention_mask'].flatten(),\n",
    "            'target': self.target[idx]\n",
    "        }"
   ]
  },
  {
   "cell_type": "markdown",
   "id": "b655d2dc",
   "metadata": {
    "papermill": {
     "duration": 0.007204,
     "end_time": "2022-08-14T11:48:30.869268",
     "exception": false,
     "start_time": "2022-08-14T11:48:30.862064",
     "status": "completed"
    },
    "tags": []
   },
   "source": [
    "* #### Create instances of above Dataset class for train and val data, and pass these to their respective DataLoaders. \n",
    "* #### The DataLoader batches and returns the samples in the same format as return type of the __getitem__ method (dict here).\n",
    "* #### Take a look at the example batch below - a dict with the same keys specified in the __getitem__ method, with *batch_size* number of samples bunched together to create 2D tensors of ids and masks."
   ]
  },
  {
   "cell_type": "code",
   "execution_count": 16,
   "id": "cee50c84",
   "metadata": {
    "papermill": {
     "duration": 8.676521,
     "end_time": "2022-08-14T11:48:39.553617",
     "exception": false,
     "start_time": "2022-08-14T11:48:30.877096",
     "status": "completed"
    },
    "tags": []
   },
   "outputs": [
    {
     "name": "stderr",
     "output_type": "stream",
     "text": [
      "Special tokens have been added in the vocabulary, make sure the associated word embeddings are fine-tuned or trained.\n"
     ]
    },
    {
     "data": {
      "text/plain": [
       "{'discourse_input_ids': tensor([[     1,  18172,      2,  ...,      0,      0,      0],\n",
       "         [     1,  12993,      2,  ...,      0,      0,      0],\n",
       "         [     1,  21049,      2,  ...,      0,      0,      0],\n",
       "         ...,\n",
       "         [     1,  21049,      2,  ...,      0,      0,      0],\n",
       "         [     1,  21049,      2,  ...,      0,      0,      0],\n",
       "         [     1, 103967,  11652,  ...,      0,      0,      0]]),\n",
       " 'discourse_attention_mask': tensor([[1, 1, 1,  ..., 0, 0, 0],\n",
       "         [1, 1, 1,  ..., 0, 0, 0],\n",
       "         [1, 1, 1,  ..., 0, 0, 0],\n",
       "         ...,\n",
       "         [1, 1, 1,  ..., 0, 0, 0],\n",
       "         [1, 1, 1,  ..., 0, 0, 0],\n",
       "         [1, 1, 1,  ..., 0, 0, 0]]),\n",
       " 'essay_input_ids': tensor([[    1,   593,   610,  ...,     0,     0,     0],\n",
       "         [    1,   307, 13351,  ...,   400,   310,     2],\n",
       "         [    1, 10147,   945,  ...,   262,   370,     2],\n",
       "         ...,\n",
       "         [    1, 10147,   945,  ...,     0,     0,     0],\n",
       "         [    1,   333,   274,  ...,     0,     0,     0],\n",
       "         [    1,   273,  4213,  ...,     0,     0,     0]]),\n",
       " 'essay_attention_mask': tensor([[1, 1, 1,  ..., 0, 0, 0],\n",
       "         [1, 1, 1,  ..., 1, 1, 1],\n",
       "         [1, 1, 1,  ..., 1, 1, 1],\n",
       "         ...,\n",
       "         [1, 1, 1,  ..., 0, 0, 0],\n",
       "         [1, 1, 1,  ..., 0, 0, 0],\n",
       "         [1, 1, 1,  ..., 0, 0, 0]]),\n",
       " 'target': tensor([1, 0, 1, 1, 0, 1, 1, 1])}"
      ]
     },
     "execution_count": 16,
     "metadata": {},
     "output_type": "execute_result"
    }
   ],
   "source": [
    "tokenizer = AutoTokenizer.from_pretrained(CONFIG['pretrained_model_path'])\n",
    "train_dataset = FeedbackDataset(tokenizer, \n",
    "                                train_data['essay_text'].values,\n",
    "                                train_data['discourse_type'].values, \n",
    "                                train_data['discourse_text'].values, \n",
    "                                train_data['discourse_effectiveness'].values)\n",
    "val_dataset = FeedbackDataset(tokenizer, \n",
    "                              val_data['essay_text'].values,\n",
    "                              val_data['discourse_type'].values, \n",
    "                              val_data['discourse_text'].values, \n",
    "                              val_data['discourse_effectiveness'].values)\n",
    "train_dataloader = DataLoader(train_dataset, batch_size=CONFIG['batch_size'], shuffle=True, pin_memory=True)\n",
    "val_dataloader = DataLoader(val_dataset, batch_size=CONFIG['batch_size'], shuffle=False, pin_memory=True)\n",
    "\n",
    "# Sample training batch.\n",
    "next(iter(train_dataloader))"
   ]
  },
  {
   "cell_type": "markdown",
   "id": "64a8ceed",
   "metadata": {
    "papermill": {
     "duration": 0.009191,
     "end_time": "2022-08-14T11:48:39.572718",
     "exception": false,
     "start_time": "2022-08-14T11:48:39.563527",
     "status": "completed"
    },
    "tags": []
   },
   "source": [
    "### Understanding the Pooling Layer - why it is needed:\n",
    "\n",
    "* #### The pretrained layer of any BERT-type architecture returns mainly 2 useful outputs - the last hidden state and pooled output.\n",
    "* #### The last hidden state contains the 768-dimension (for base) **hidden state vector for each token for each sequence in the batch.** Let's say we have a batch size of 8, with each sequence padded to a max_length of 512. The last hidden state then returns a 3D - (8, 512, 768) size tensor.\n",
    "* #### On the contrary, the pooled output contains the **hidden state vector of only the first token of every sequence in the batch.** Thus, making it a 2D - (8, 768) size tensor with the above example.\n",
    "* #### Now, the pooled output can be used directly for downstream finetuning, but with just the embeddings of the 1st tokens of sequences, we might be losing out on a fair amount of data. Instead, we could use the last hidden state output as it does contain embeddings for each token of the sequence. But these token embedding vectors will need to be meaningfully aggregated to obtain a similar 2D tensor by condensing along dim=1.\n",
    "* #### We could simply average all the token embeddings of each sequence, but remember we also have special tokens like [PAD], whose embeddings aren't useful. Hence, we make use of this custom **MeanPooling Layer**, to average out only the useful token embeddings using the attention_mask."
   ]
  },
  {
   "cell_type": "markdown",
   "id": "b12de292",
   "metadata": {
    "papermill": {
     "duration": 0.008296,
     "end_time": "2022-08-14T11:48:39.589745",
     "exception": false,
     "start_time": "2022-08-14T11:48:39.581449",
     "status": "completed"
    },
    "tags": []
   },
   "source": [
    "### So, HOW does this MeanPooling work?\n",
    "* #### As discussed, we will use the attention mask to filter out embeddings of special tokens from the average.\n",
    "* #### First, we unsqueeze each attention scalar into a single element vector: 0 -> [0] and 1 -> [1], followed by expanding it to the hidden state size (768). Now, we have our 2D attention mask in the same 3D size as the *last hidden state*.\n",
    "* #### Next, perform an element-wise multiplication of the 2 tensors thereby reducing the entire hidden state vector of all special tokens to zeroes.\n",
    "* #### To perform the average, sum up the token embedding vectors of each sequence after the above product and divide the whole thing with the summed up token attention mask vectors of the sequence. The final output will be of size (*batch_size*, *hidden_dim*)."
   ]
  },
  {
   "cell_type": "code",
   "execution_count": 17,
   "id": "4a2ad347",
   "metadata": {
    "papermill": {
     "duration": 0.019008,
     "end_time": "2022-08-14T11:48:39.617157",
     "exception": false,
     "start_time": "2022-08-14T11:48:39.598149",
     "status": "completed"
    },
    "tags": []
   },
   "outputs": [],
   "source": [
    "class MeanPoolingLayer(nn.Module):\n",
    "    def __init__(self):\n",
    "        super(MeanPoolingLayer, self).__init__()\n",
    "    \n",
    "    def forward(self, last_hidden_state, attention_mask):\n",
    "        expanded_mask = attention_mask.unsqueeze(-1).expand(last_hidden_state.size()).float()\n",
    "        mask_sum = expanded_mask.sum(1)\n",
    "        mask_sum = torch.clamp(mask_sum, min=1e-9)\n",
    "        masked_hidden_state = torch.sum(last_hidden_state * expanded_mask, 1)\n",
    "        return masked_hidden_state / mask_sum"
   ]
  },
  {
   "cell_type": "markdown",
   "id": "da69de87",
   "metadata": {
    "papermill": {
     "duration": 0.00776,
     "end_time": "2022-08-14T11:48:39.633015",
     "exception": false,
     "start_time": "2022-08-14T11:48:39.625255",
     "status": "completed"
    },
    "tags": []
   },
   "source": [
    "### The Siamese Model Architecture: \n",
    "* #### Train two separate BERT-heads for sentence A and B as defined earlier. Obtain the last hidden states and perform mean pooling to get two indepedent 2D tensors of (batch_size, hidden_dim). Lets call them u, v.\n",
    "* #### Now, concatenate u, v, abs(u-v) horizontally into a size of (batch_size, 3*hidden_dim)\n",
    "* #### Proceed with the standard Dropout and Fully Connected Layer to obtain logits for all 3 classes."
   ]
  },
  {
   "cell_type": "code",
   "execution_count": 20,
   "id": "ff3b958f",
   "metadata": {
    "papermill": {
     "duration": 0.021741,
     "end_time": "2022-08-14T11:48:39.662652",
     "exception": false,
     "start_time": "2022-08-14T11:48:39.640911",
     "status": "completed"
    },
    "tags": []
   },
   "outputs": [],
   "source": [
    "class CustomModel(nn.Module):\n",
    "    def __init__(self, num_classes=3):\n",
    "        super(CustomModel, self).__init__()\n",
    "        self.num_classes = num_classes\n",
    "        self.pretrained_layer = AutoModel.from_pretrained(CONFIG['pretrained_model_path'])\n",
    "        self.pooler = MeanPoolingLayer()\n",
    "        self.dropout = nn.Dropout(p=0.3)\n",
    "        self.fc = nn.Linear(3*self.pretrained_layer.config.hidden_size, num_classes)\n",
    "    \n",
    "    def forward(self, discourse_input_ids, discourse_attention_mask, essay_input_ids, essay_attention_mask):\n",
    "        # Sentence A - BERT + mean pooling\n",
    "        discourse_out = self.pretrained_layer(input_ids=discourse_input_ids, attention_mask=discourse_attention_mask)\n",
    "        discourse_emb = self.pooler(discourse_out.last_hidden_state, discourse_attention_mask)\n",
    "        # Sentence B - BERT + mean pooling\n",
    "        essay_out = self.pretrained_layer(input_ids=essay_input_ids, attention_mask=essay_attention_mask)\n",
    "        essay_emb = self.pooler(essay_out.last_hidden_state, essay_attention_mask)\n",
    "        # concat\n",
    "        concat_emb = torch.cat([discourse_emb, essay_emb, torch.abs(essay_emb - discourse_emb)], dim=-1)\n",
    "        x = self.dropout(concat_emb)\n",
    "        x = self.fc(x)\n",
    "        return x\n",
    "        "
   ]
  },
  {
   "cell_type": "markdown",
   "id": "4999a976",
   "metadata": {
    "papermill": {
     "duration": 0.007721,
     "end_time": "2022-08-14T11:48:39.678324",
     "exception": false,
     "start_time": "2022-08-14T11:48:39.670603",
     "status": "completed"
    },
    "tags": []
   },
   "source": [
    "* #### Instantiate the model and push to cuda, same with loss function. \n",
    "* #### The competition metric (multiclass logloss) is essentially same as the categorical crossentropy loss."
   ]
  },
  {
   "cell_type": "code",
   "execution_count": 21,
   "id": "f6fa1f14",
   "metadata": {
    "papermill": {
     "duration": 29.669136,
     "end_time": "2022-08-14T11:49:09.355658",
     "exception": false,
     "start_time": "2022-08-14T11:48:39.686522",
     "status": "completed"
    },
    "tags": []
   },
   "outputs": [
    {
     "name": "stderr",
     "output_type": "stream",
     "text": [
      "Some weights of the model checkpoint at microsoft/deberta-v3-base were not used when initializing DebertaV2Model: ['lm_predictions.lm_head.dense.weight', 'lm_predictions.lm_head.dense.bias', 'lm_predictions.lm_head.bias', 'mask_predictions.classifier.weight', 'mask_predictions.dense.bias', 'lm_predictions.lm_head.LayerNorm.weight', 'mask_predictions.classifier.bias', 'lm_predictions.lm_head.LayerNorm.bias', 'mask_predictions.LayerNorm.bias', 'mask_predictions.LayerNorm.weight', 'mask_predictions.dense.weight']\n",
      "- This IS expected if you are initializing DebertaV2Model from the checkpoint of a model trained on another task or with another architecture (e.g. initializing a BertForSequenceClassification model from a BertForPreTraining model).\n",
      "- This IS NOT expected if you are initializing DebertaV2Model from the checkpoint of a model that you expect to be exactly identical (initializing a BertForSequenceClassification model from a BertForSequenceClassification model).\n"
     ]
    }
   ],
   "source": [
    "model = CustomModel().to(CONFIG['device'])\n",
    "optimizer = AdamW(model.parameters(), lr=CONFIG['lr'], weight_decay=CONFIG['weight_decay'])\n",
    "loss = nn.CrossEntropyLoss().to(CONFIG['device'])\n",
    "\n",
    "def eval_metric(ground_truths, probs):\n",
    "    logloss = 0\n",
    "    for i in range(len(ground_truths)):\n",
    "        logloss += np.log(probs[i][ground_truths[i]].item())\n",
    "    \n",
    "    return (-1/len(ground_truths)) * logloss\n",
    "        "
   ]
  },
  {
   "cell_type": "markdown",
   "id": "8de6ea9c",
   "metadata": {
    "papermill": {
     "duration": 0.00973,
     "end_time": "2022-08-14T11:49:09.375789",
     "exception": false,
     "start_time": "2022-08-14T11:49:09.366059",
     "status": "completed"
    },
    "tags": []
   },
   "source": [
    "# 4. Model Training and Validation\n",
    "\n",
    "* #### Here we use techniques such as Gradient Accumulation and Mixed Precision Training.\n",
    "* #### The model parameter update (optimizer.step()) is performed not for every batch as is usually the case, but after *n_accumulate* number of batches. This helps mimic a larger batch size.\n"
   ]
  },
  {
   "cell_type": "code",
   "execution_count": 22,
   "id": "342fd659",
   "metadata": {
    "papermill": {
     "duration": 0.044078,
     "end_time": "2022-08-14T11:49:09.429731",
     "exception": false,
     "start_time": "2022-08-14T11:49:09.385653",
     "status": "completed"
    },
    "tags": []
   },
   "outputs": [],
   "source": [
    "def train_loop(model, dataloader, loss, optimizer):\n",
    "    model.train()\n",
    "    batch_losses = []\n",
    "    scaler = torch.cuda.amp.GradScaler()\n",
    "    # Iterate over each batch.\n",
    "    for batch_num, batch in tqdm(enumerate(dataloader)):\n",
    "        discourse_input_ids = batch['discourse_input_ids'].to(CONFIG['device'], non_blocking=True)\n",
    "        discourse_attention_mask = batch['discourse_attention_mask'].to(CONFIG['device'], non_blocking=True)\n",
    "        essay_input_ids = batch['essay_input_ids'].to(CONFIG['device'], non_blocking=True)\n",
    "        essay_attention_mask = batch['essay_attention_mask'].to(CONFIG['device'], non_blocking=True)\n",
    "        targets = batch['target'].to(CONFIG['device'], non_blocking=True)\n",
    "        # Mixed Precision Training, only for forward prop.\n",
    "        with torch.cuda.amp.autocast():\n",
    "            logits = model(discourse_input_ids, discourse_attention_mask, essay_input_ids, essay_attention_mask)\n",
    "            probs = nn.Softmax(dim=1)(logits)\n",
    "        # Remember, Crossentropy Loss requires logits and not probabilities\n",
    "        batch_loss = loss(logits, targets)\n",
    "        batch_loss = batch_loss / CONFIG['n_accumulate']\n",
    "        batch_losses.append(batch_loss.item())\n",
    "        # Backpropagation\n",
    "        scaler.scale(batch_loss).backward()\n",
    "        if (batch_num+1) % CONFIG['n_accumulate'] == 0:\n",
    "            # Updating model parameters\n",
    "            scaler.step(optimizer)\n",
    "            scaler.update()\n",
    "            # Setting gradients to None instead of zero.\n",
    "            optimizer.zero_grad(set_to_none=True)\n",
    "    \n",
    "    return np.mean(batch_losses)\n",
    "        "
   ]
  },
  {
   "cell_type": "code",
   "execution_count": 23,
   "id": "93df9312",
   "metadata": {
    "papermill": {
     "duration": 0.023443,
     "end_time": "2022-08-14T11:49:09.463298",
     "exception": false,
     "start_time": "2022-08-14T11:49:09.439855",
     "status": "completed"
    },
    "tags": []
   },
   "outputs": [],
   "source": [
    "def validation_loop(model, loss, dataloader):\n",
    "    model.eval()\n",
    "    batch_losses = []\n",
    "    with torch.no_grad():\n",
    "        for batch in tqdm(dataloader):\n",
    "            discourse_input_ids = batch['discourse_input_ids'].to(CONFIG['device'], non_blocking=True)\n",
    "            discourse_attention_mask = batch['discourse_attention_mask'].to(CONFIG['device'], non_blocking=True)\n",
    "            essay_input_ids = batch['essay_input_ids'].to(CONFIG['device'], non_blocking=True)\n",
    "            essay_attention_mask = batch['essay_attention_mask'].to(CONFIG['device'], non_blocking=True)\n",
    "            targets = batch['target'].to(CONFIG['device'], non_blocking=True)\n",
    "            with torch.cuda.amp.autocast():\n",
    "                logits = model(discourse_input_ids, discourse_attention_mask, essay_input_ids, essay_attention_mask)\n",
    "                probs = nn.Softmax(dim=1)(logits)\n",
    "            batch_loss = loss(logits, targets)\n",
    "            batch_losses.append(batch_loss.item())\n",
    "    \n",
    "    return np.mean(batch_losses)"
   ]
  },
  {
   "cell_type": "markdown",
   "id": "fef33241",
   "metadata": {
    "papermill": {
     "duration": 0.00867,
     "end_time": "2022-08-14T11:49:09.480745",
     "exception": false,
     "start_time": "2022-08-14T11:49:09.472075",
     "status": "completed"
    },
    "tags": []
   },
   "source": [
    "* #### Run the training and validation loops for every epoch and obtain the mean loss for the epoch.\n",
    "* #### To avoid using an overfit model, employ Early Stopping callback to abort training if the validation loss doesn't reduce for *patience* no. of epochs at a stretch.\n",
    "* #### Save the model weights corresponding to best (min) loss value in a .pt file for future inference. Keeps overwriting if better losses are encountered."
   ]
  },
  {
   "cell_type": "code",
   "execution_count": 24,
   "id": "733cadfb",
   "metadata": {
    "papermill": {
     "duration": 34424.856036,
     "end_time": "2022-08-14T21:22:54.345616",
     "exception": false,
     "start_time": "2022-08-14T11:49:09.489580",
     "status": "completed"
    },
    "tags": []
   },
   "outputs": [
    {
     "name": "stdout",
     "output_type": "stream",
     "text": [
      "Training Start ......\n",
      "Epoch 1 of 7\n"
     ]
    },
    {
     "name": "stderr",
     "output_type": "stream",
     "text": [
      "4136it [1:06:32,  1.04it/s]\n"
     ]
    },
    {
     "name": "stdout",
     "output_type": "stream",
     "text": [
      "Training Loss: 0.08975135611381015\n"
     ]
    },
    {
     "name": "stderr",
     "output_type": "stream",
     "text": [
      "100%|██████████████████████████████████████████████████████████████████████████████████████████████████| 460/460 [02:37<00:00,  2.92it/s]\n"
     ]
    },
    {
     "name": "stdout",
     "output_type": "stream",
     "text": [
      "Val Loss: 0.6312396505604619\n",
      "New best val loss, saving model checkpoint at epoch 1.\n",
      "Epoch 2 of 7\n"
     ]
    },
    {
     "name": "stderr",
     "output_type": "stream",
     "text": [
      "4136it [1:06:41,  1.03it/s]\n"
     ]
    },
    {
     "name": "stdout",
     "output_type": "stream",
     "text": [
      "Training Loss: 0.07361663840494949\n"
     ]
    },
    {
     "name": "stderr",
     "output_type": "stream",
     "text": [
      "100%|██████████████████████████████████████████████████████████████████████████████████████████████████| 460/460 [02:37<00:00,  2.92it/s]\n"
     ]
    },
    {
     "name": "stdout",
     "output_type": "stream",
     "text": [
      "Val Loss: 0.6243798297384511\n",
      "New best val loss, saving model checkpoint at epoch 2.\n",
      "Epoch 3 of 7\n"
     ]
    },
    {
     "name": "stderr",
     "output_type": "stream",
     "text": [
      "4136it [1:07:40,  1.02it/s]\n"
     ]
    },
    {
     "name": "stdout",
     "output_type": "stream",
     "text": [
      "Training Loss: 0.06376066152546807\n"
     ]
    },
    {
     "name": "stderr",
     "output_type": "stream",
     "text": [
      "100%|██████████████████████████████████████████████████████████████████████████████████████████████████| 460/460 [02:36<00:00,  2.93it/s]\n"
     ]
    },
    {
     "name": "stdout",
     "output_type": "stream",
     "text": [
      "Val Loss: 0.5917098335597826\n",
      "New best val loss, saving model checkpoint at epoch 3.\n",
      "Epoch 4 of 7\n"
     ]
    },
    {
     "name": "stderr",
     "output_type": "stream",
     "text": [
      "4136it [1:31:12,  1.32s/it]\n"
     ]
    },
    {
     "name": "stdout",
     "output_type": "stream",
     "text": [
      "Training Loss: 0.05265938520892676\n"
     ]
    },
    {
     "name": "stderr",
     "output_type": "stream",
     "text": [
      "100%|██████████████████████████████████████████████████████████████████████████████████████████████████| 460/460 [03:33<00:00,  2.15it/s]\n"
     ]
    },
    {
     "name": "stdout",
     "output_type": "stream",
     "text": [
      "Val Loss: 0.627040431810462\n",
      "Epoch 5 of 7\n"
     ]
    },
    {
     "name": "stderr",
     "output_type": "stream",
     "text": [
      "4136it [1:20:15,  1.16s/it]\n"
     ]
    },
    {
     "name": "stdout",
     "output_type": "stream",
     "text": [
      "Training Loss: 0.039587892462252645\n"
     ]
    },
    {
     "name": "stderr",
     "output_type": "stream",
     "text": [
      "100%|██████████████████████████████████████████████████████████████████████████████████████████████████| 460/460 [03:09<00:00,  2.43it/s]\n"
     ]
    },
    {
     "name": "stdout",
     "output_type": "stream",
     "text": [
      "Val Loss: 0.713797030241593\n",
      "Epoch 6 of 7\n"
     ]
    },
    {
     "name": "stderr",
     "output_type": "stream",
     "text": [
      "4136it [1:20:15,  1.16s/it]\n"
     ]
    },
    {
     "name": "stdout",
     "output_type": "stream",
     "text": [
      "Training Loss: 0.027360737439050434\n"
     ]
    },
    {
     "name": "stderr",
     "output_type": "stream",
     "text": [
      "100%|██████████████████████████████████████████████████████████████████████████████████████████████████| 460/460 [03:05<00:00,  2.48it/s]"
     ]
    },
    {
     "name": "stdout",
     "output_type": "stream",
     "text": [
      "Val Loss: 0.8434442768926206\n",
      "Early Stopping Triggered after 6 epochs. Aborting Training...\n"
     ]
    },
    {
     "name": "stderr",
     "output_type": "stream",
     "text": [
      "\n"
     ]
    }
   ],
   "source": [
    "history = defaultdict(list)\n",
    "best_loss = np.inf\n",
    "prev_loss = np.inf\n",
    "earlystop_trigger = 0\n",
    "epochs = CONFIG['epochs']\n",
    "print('Training Start ......')\n",
    "for epoch in range(CONFIG['epochs']):\n",
    "    print(f'Epoch {epoch+1} of {epochs}')\n",
    "    train_loss = train_loop(model, train_dataloader, loss, optimizer)\n",
    "    print(f'Training Loss: {train_loss}')\n",
    "    val_loss = validation_loop(model, loss, val_dataloader)\n",
    "    print(f'Val Loss: {val_loss}')\n",
    "    history['train_loss'].append(train_loss)\n",
    "    history['val_loss'].append(val_loss)\n",
    "    if val_loss <= prev_loss:\n",
    "        earlystop_trigger = 0\n",
    "    else:\n",
    "        earlystop_trigger += 1\n",
    "        if earlystop_trigger >= CONFIG['patience']:\n",
    "            print(f'Early Stopping Triggered after {epoch+1} epochs. Aborting Training...')\n",
    "            break\n",
    "    if val_loss < best_loss:\n",
    "        print(f'New best val loss, saving model checkpoint at epoch {epoch+1}.')\n",
    "        torch.save(model.state_dict(), CONFIG['saved_model_path'])\n",
    "        best_loss = val_loss\n",
    "    prev_loss = val_loss"
   ]
  },
  {
   "cell_type": "markdown",
   "id": "52c7cb74",
   "metadata": {
    "papermill": {
     "duration": 1.631553,
     "end_time": "2022-08-14T21:22:57.468637",
     "exception": false,
     "start_time": "2022-08-14T21:22:55.837084",
     "status": "completed"
    },
    "tags": []
   },
   "source": [
    "#### Plot loss diagnostic curves with losses obtained above. Observe, how the validation loss begins to rise after an initial decline, a clear indication of overfitting. The saved model weights correspond to the epoch with validation loss minima on this graph."
   ]
  },
  {
   "cell_type": "code",
   "execution_count": 25,
   "id": "d496c7b1",
   "metadata": {
    "papermill": {
     "duration": 1.705268,
     "end_time": "2022-08-14T21:23:00.806759",
     "exception": false,
     "start_time": "2022-08-14T21:22:59.101491",
     "status": "completed"
    },
    "tags": []
   },
   "outputs": [
    {
     "data": {
      "image/png": "[encoded data removed]",
      "text/plain": [
       "<Figure size 640x480 with 1 Axes>"
      ]
     },
     "metadata": {},
     "output_type": "display_data"
    }
   ],
   "source": [
    "plt.plot(history['train_loss'], label='Train Loss')\n",
    "plt.plot(history['val_loss'], label='Val Loss')\n",
    "plt.legend()\n",
    "plt.grid()\n",
    "plt.xlabel('Epochs')\n",
    "plt.ylabel('Loss')\n",
    "plt.title('Loss Diagnostic Curves')\n",
    "plt.show()"
   ]
  },
  {
   "cell_type": "markdown",
   "id": "0d9acfd9",
   "metadata": {
    "papermill": {
     "duration": 1.889007,
     "end_time": "2022-08-14T21:23:04.196280",
     "exception": false,
     "start_time": "2022-08-14T21:23:02.307273",
     "status": "completed"
    },
    "tags": []
   },
   "source": [
    "CONFIG### Model Inference"
   ]
  },
  {
   "cell_type": "code",
   "execution_count": 32,
   "id": "b0120653-07de-436f-ab74-7b04475aa3d1",
   "metadata": {},
   "outputs": [],
   "source": [
    "@torch.no_grad()\n",
    "def inference(essay_text, discourse_type, discourse_text, model):\n",
    "    model.eval()\n",
    "    input_discourse = discourse_type + ' ' + tokenizer.sep_token + ' ' + discourse_text\n",
    "    tokenized_discourse = tokenizer.encode_plus(\n",
    "        input_discourse,\n",
    "        return_token_type_ids=False,\n",
    "        return_attention_mask=True,\n",
    "        max_length=512,\n",
    "        truncation=True,\n",
    "        padding='max_length',\n",
    "        add_special_tokens=True,\n",
    "        return_tensors='pt'\n",
    "    )\n",
    "    tokenized_essay = tokenizer.encode_plus(\n",
    "                            essay_text,\n",
    "                            return_token_type_ids=False,\n",
    "                            return_attention_mask=True,\n",
    "                            max_length=512,\n",
    "                            truncation=True,\n",
    "                            padding='max_length',\n",
    "                            add_special_tokens=True,\n",
    "                            return_tensors='pt',\n",
    "                        )\n",
    "    discourse_input_ids = tokenized_discourse['input_ids'].to(CONFIG['device'], non_blocking=True)\n",
    "    discourse_attention_mask = tokenized_discourse['attention_mask'].to(CONFIG['device'], non_blocking=True)\n",
    "    essay_input_ids = tokenized_essay['input_ids'].to(CONFIG['device'], non_blocking=True)\n",
    "    essay_attention_mask = tokenized_essay['attention_mask'].to(CONFIG['device'], non_blocking=True)\n",
    "    with torch.cuda.amp.autocast():\n",
    "        logits = model(discourse_input_ids, discourse_attention_mask, essay_input_ids, essay_attention_mask)\n",
    "        probs = nn.Softmax(dim=1)(logits)\n",
    "    return probs"
   ]
  },
  {
   "cell_type": "code",
   "execution_count": 40,
   "id": "8e049878-c734-42e5-9a4b-c3d22252cca1",
   "metadata": {},
   "outputs": [],
   "source": [
    "def fetch_essay_texts(df, train=True):\n",
    "    if train:\n",
    "        base_path = './input/train/'\n",
    "    else:\n",
    "        base_path = './input/test/'\n",
    "        \n",
    "    essay_texts = {}\n",
    "    for filename in os.listdir(base_path):\n",
    "        with open(base_path + filename) as f:\n",
    "            text = f.readlines()\n",
    "            full_text = ' '.join([x for x in text])\n",
    "            essay_text = ' '.join([x for x in full_text.split()])\n",
    "        essay_texts[filename[:-4]] = essay_text\n",
    "    df['essay_text'] = [essay_texts[essay_id] for essay_id in df['essay_id'].values]   \n",
    "    return df"
   ]
  },
  {
   "cell_type": "code",
   "execution_count": 41,
   "id": "df6e64e1-2a73-46c4-a442-9a59d4664a1c",
   "metadata": {},
   "outputs": [
    {
     "name": "stderr",
     "output_type": "stream",
     "text": [
      "Special tokens have been added in the vocabulary, make sure the associated word embeddings are fine-tuned or trained.\n"
     ]
    }
   ],
   "source": [
    "test_data = pd.read_csv('./input/test.csv')\n",
    "test_data = fetch_essay_texts(test_data, train=False)\n",
    "tokenizer = AutoTokenizer.from_pretrained(CONFIG['pretrained_model_path'])"
   ]
  },
  {
   "cell_type": "code",
   "execution_count": 42,
   "id": "727c2874-0488-4fea-acf6-c2e21a0be718",
   "metadata": {},
   "outputs": [
    {
     "name": "stderr",
     "output_type": "stream",
     "text": [
      "Some weights of the model checkpoint at microsoft/deberta-v3-base were not used when initializing DebertaV2Model: ['lm_predictions.lm_head.dense.weight', 'lm_predictions.lm_head.dense.bias', 'lm_predictions.lm_head.bias', 'mask_predictions.classifier.weight', 'mask_predictions.dense.bias', 'lm_predictions.lm_head.LayerNorm.weight', 'mask_predictions.classifier.bias', 'lm_predictions.lm_head.LayerNorm.bias', 'mask_predictions.LayerNorm.bias', 'mask_predictions.LayerNorm.weight', 'mask_predictions.dense.weight']\n",
      "- This IS expected if you are initializing DebertaV2Model from the checkpoint of a model trained on another task or with another architecture (e.g. initializing a BertForSequenceClassification model from a BertForPreTraining model).\n",
      "- This IS NOT expected if you are initializing DebertaV2Model from the checkpoint of a model that you expect to be exactly identical (initializing a BertForSequenceClassification model from a BertForSequenceClassification model).\n"
     ]
    },
    {
     "data": {
      "text/html": [
       "<div>\n",
       "<style scoped>\n",
       "    .dataframe tbody tr th:only-of-type {\n",
       "        vertical-align: middle;\n",
       "    }\n",
       "\n",
       "    .dataframe tbody tr th {\n",
       "        vertical-align: top;\n",
       "    }\n",
       "\n",
       "    .dataframe thead th {\n",
       "        text-align: right;\n",
       "    }\n",
       "</style>\n",
       "<table border=\"1\" class=\"dataframe\">\n",
       "  <thead>\n",
       "    <tr style=\"text-align: right;\">\n",
       "      <th></th>\n",
       "      <th>discourse_id</th>\n",
       "      <th>Ineffective</th>\n",
       "      <th>Adequate</th>\n",
       "      <th>Effective</th>\n",
       "    </tr>\n",
       "  </thead>\n",
       "  <tbody>\n",
       "    <tr>\n",
       "      <th>0</th>\n",
       "      <td>a261b6e14276</td>\n",
       "      <td>0.005587</td>\n",
       "      <td>0.751370</td>\n",
       "      <td>0.243042</td>\n",
       "    </tr>\n",
       "    <tr>\n",
       "      <th>1</th>\n",
       "      <td>5a88900e7dc1</td>\n",
       "      <td>0.010512</td>\n",
       "      <td>0.918906</td>\n",
       "      <td>0.070582</td>\n",
       "    </tr>\n",
       "    <tr>\n",
       "      <th>2</th>\n",
       "      <td>9790d835736b</td>\n",
       "      <td>0.013944</td>\n",
       "      <td>0.643584</td>\n",
       "      <td>0.342473</td>\n",
       "    </tr>\n",
       "    <tr>\n",
       "      <th>3</th>\n",
       "      <td>75ce6d68b67b</td>\n",
       "      <td>0.023443</td>\n",
       "      <td>0.666624</td>\n",
       "      <td>0.309933</td>\n",
       "    </tr>\n",
       "    <tr>\n",
       "      <th>4</th>\n",
       "      <td>93578d946723</td>\n",
       "      <td>0.021312</td>\n",
       "      <td>0.590832</td>\n",
       "      <td>0.387856</td>\n",
       "    </tr>\n",
       "    <tr>\n",
       "      <th>5</th>\n",
       "      <td>2e214524dbe3</td>\n",
       "      <td>0.017345</td>\n",
       "      <td>0.749878</td>\n",
       "      <td>0.232777</td>\n",
       "    </tr>\n",
       "    <tr>\n",
       "      <th>6</th>\n",
       "      <td>84812fc2ab9f</td>\n",
       "      <td>0.003983</td>\n",
       "      <td>0.367957</td>\n",
       "      <td>0.628060</td>\n",
       "    </tr>\n",
       "    <tr>\n",
       "      <th>7</th>\n",
       "      <td>c668ff840720</td>\n",
       "      <td>0.007269</td>\n",
       "      <td>0.461281</td>\n",
       "      <td>0.531450</td>\n",
       "    </tr>\n",
       "    <tr>\n",
       "      <th>8</th>\n",
       "      <td>739a6d00f44a</td>\n",
       "      <td>0.048557</td>\n",
       "      <td>0.835019</td>\n",
       "      <td>0.116424</td>\n",
       "    </tr>\n",
       "    <tr>\n",
       "      <th>9</th>\n",
       "      <td>bcfae2c9a244</td>\n",
       "      <td>0.006551</td>\n",
       "      <td>0.829940</td>\n",
       "      <td>0.163510</td>\n",
       "    </tr>\n",
       "  </tbody>\n",
       "</table>\n",
       "</div>"
      ],
      "text/plain": [
       "   discourse_id  Ineffective  Adequate  Effective\n",
       "0  a261b6e14276     0.005587  0.751370   0.243042\n",
       "1  5a88900e7dc1     0.010512  0.918906   0.070582\n",
       "2  9790d835736b     0.013944  0.643584   0.342473\n",
       "3  75ce6d68b67b     0.023443  0.666624   0.309933\n",
       "4  93578d946723     0.021312  0.590832   0.387856\n",
       "5  2e214524dbe3     0.017345  0.749878   0.232777\n",
       "6  84812fc2ab9f     0.003983  0.367957   0.628060\n",
       "7  c668ff840720     0.007269  0.461281   0.531450\n",
       "8  739a6d00f44a     0.048557  0.835019   0.116424\n",
       "9  bcfae2c9a244     0.006551  0.829940   0.163510"
      ]
     },
     "execution_count": 42,
     "metadata": {},
     "output_type": "execute_result"
    }
   ],
   "source": [
    "df = pd.DataFrame()\n",
    "df['discourse_id'] = test_data['discourse_id']\n",
    "class0, class1, class2 = [], [], []\n",
    "model = CustomModel().to(CONFIG['device'])\n",
    "model.load_state_dict(torch.load(CONFIG['saved_model_path']))\n",
    "for essay_text, discourse_type, discourse_text in zip(test_data['essay_text'].tolist(), test_data['discourse_type'].tolist(), test_data['discourse_text'].tolist()):\n",
    "    probs = inference(essay_text, discourse_type, discourse_text, model)\n",
    "    class0.append(probs[0][0].item())\n",
    "    class1.append(probs[0][1].item())\n",
    "    class2.append(probs[0][2].item())\n",
    "    \n",
    "df['Ineffective'] = class2\n",
    "df['Adequate'] = class1\n",
    "df['Effective'] = class0\n",
    "df.to_csv('submission.csv', index=False)\n",
    "df"
   ]
  }
 ],
 "metadata": {
  "kernelspec": {
   "display_name": "Python 3 (ipykernel)",
   "language": "python",
   "name": "python3"
  },
  "language_info": {
   "codemirror_mode": {
    "name": "ipython",
    "version": 3
   },
   "file_extension": ".py",
   "mimetype": "text/x-python",
   "name": "python",
   "nbconvert_exporter": "python",
   "pygments_lexer": "ipython3",
   "version": "3.9.5"
  },
  "papermill": {
   "default_parameters": {},
   "duration": 34508.643762,
   "end_time": "2022-08-14T21:23:09.366265",
   "environment_variables": {},
   "exception": null,
   "input_path": "__notebook__.ipynb",
   "output_path": "__notebook__.ipynb",
   "parameters": {},
   "start_time": "2022-08-14T11:48:00.722503",
   "version": "2.3.4"
  },
  "vscode": {
   "interpreter": {
    "hash": "4134dbfd784abda49140ef9ac8f293e5e0949f6e0078b6ba8c5bbfb3566b2444"
   }
  },
  "widgets": {
   "application/vnd.jupyter.widget-state+json": {
    "state": {
     "018f361777a641f3b3e86867ce9734a7": {
      "model_module": "@jupyter-widgets/controls",
      "model_module_version": "1.5.0",
      "model_name": "HTMLModel",
      "state": {
       "_dom_classes": [],
       "_model_module": "@jupyter-widgets/controls",
       "_model_module_version": "1.5.0",
       "_model_name": "HTMLModel",
       "_view_count": null,
       "_view_module": "@jupyter-widgets/controls",
       "_view_module_version": "1.5.0",
       "_view_name": "HTMLView",
       "description": "",
       "description_tooltip": null,
       "layout": "IPY_MODEL_146961a985dd4ed09f218a33a87f5752",
       "placeholder": "​",
       "style": "IPY_MODEL_d104f1192897499d924fdad03f3d1281",
       "value": " 579/579 [00:00&lt;00:00, 20.6kB/s]"
      }
     },
     "074c764bfa494b7d98779187b6ae72ed": {
      "model_module": "@jupyter-widgets/base",
      "model_module_version": "1.2.0",
      "model_name": "LayoutModel",
      "state": {
       "_model_module": "@jupyter-widgets/base",
       "_model_module_version": "1.2.0",
       "_model_name": "LayoutModel",
       "_view_count": null,
       "_view_module": "@jupyter-widgets/base",
       "_view_module_version": "1.2.0",
       "_view_name": "LayoutView",
       "align_content": null,
       "align_items": null,
       "align_self": null,
       "border": null,
       "bottom": null,
       "display": null,
       "flex": null,
       "flex_flow": null,
       "grid_area": null,
       "grid_auto_columns": null,
       "grid_auto_flow": null,
       "grid_auto_rows": null,
       "grid_column": null,
       "grid_gap": null,
       "grid_row": null,
       "grid_template_areas": null,
       "grid_template_columns": null,
       "grid_template_rows": null,
       "height": null,
       "justify_content": null,
       "justify_items": null,
       "left": null,
       "margin": null,
       "max_height": null,
       "max_width": null,
       "min_height": null,
       "min_width": null,
       "object_fit": null,
       "object_position": null,
       "order": null,
       "overflow": null,
       "overflow_x": null,
       "overflow_y": null,
       "padding": null,
       "right": null,
       "top": null,
       "visibility": null,
       "width": null
      }
     },
     "0ed0f1f97f2a4eb4bb0df085688cb44d": {
      "model_module": "@jupyter-widgets/controls",
      "model_module_version": "1.5.0",
      "model_name": "FloatProgressModel",
      "state": {
       "_dom_classes": [],
       "_model_module": "@jupyter-widgets/controls",
       "_model_module_version": "1.5.0",
       "_model_name": "FloatProgressModel",
       "_view_count": null,
       "_view_module": "@jupyter-widgets/controls",
       "_view_module_version": "1.5.0",
       "_view_name": "ProgressView",
       "bar_style": "success",
       "description": "",
       "description_tooltip": null,
       "layout": "IPY_MODEL_fd44d432872143c7aa425d2bb01762d3",
       "max": 579,
       "min": 0,
       "orientation": "horizontal",
       "style": "IPY_MODEL_f37cd162a3ef41f596ed4058c4b2e90d",
       "value": 579
      }
     },
     "10bd29c93d1d4927b1fb5e95665a4f49": {
      "model_module": "@jupyter-widgets/controls",
      "model_module_version": "1.5.0",
      "model_name": "HBoxModel",
      "state": {
       "_dom_classes": [],
       "_model_module": "@jupyter-widgets/controls",
       "_model_module_version": "1.5.0",
       "_model_name": "HBoxModel",
       "_view_count": null,
       "_view_module": "@jupyter-widgets/controls",
       "_view_module_version": "1.5.0",
       "_view_name": "HBoxView",
       "box_style": "",
       "children": [
        "IPY_MODEL_5c5d4a57538b4beb9c2ddcf599869d0d",
        "IPY_MODEL_7d5d22bd46fc4990ac193f4064d74fc2",
        "IPY_MODEL_2dc24fbc8f3d4446abef2cf46d0188d2"
       ],
       "layout": "IPY_MODEL_3b54b176aef144f0b8d2d0150f9d9885"
      }
     },
     "146961a985dd4ed09f218a33a87f5752": {
      "model_module": "@jupyter-widgets/base",
      "model_module_version": "1.2.0",
      "model_name": "LayoutModel",
      "state": {
       "_model_module": "@jupyter-widgets/base",
       "_model_module_version": "1.2.0",
       "_model_name": "LayoutModel",
       "_view_count": null,
       "_view_module": "@jupyter-widgets/base",
       "_view_module_version": "1.2.0",
       "_view_name": "LayoutView",
       "align_content": null,
       "align_items": null,
       "align_self": null,
       "border": null,
       "bottom": null,
       "display": null,
       "flex": null,
       "flex_flow": null,
       "grid_area": null,
       "grid_auto_columns": null,
       "grid_auto_flow": null,
       "grid_auto_rows": null,
       "grid_column": null,
       "grid_gap": null,
       "grid_row": null,
       "grid_template_areas": null,
       "grid_template_columns": null,
       "grid_template_rows": null,
       "height": null,
       "justify_content": null,
       "justify_items": null,
       "left": null,
       "margin": null,
       "max_height": null,
       "max_width": null,
       "min_height": null,
       "min_width": null,
       "object_fit": null,
       "object_position": null,
       "order": null,
       "overflow": null,
       "overflow_x": null,
       "overflow_y": null,
       "padding": null,
       "right": null,
       "top": null,
       "visibility": null,
       "width": null
      }
     },
     "14ee00a7b81143358b071f75c393f297": {
      "model_module": "@jupyter-widgets/base",
      "model_module_version": "1.2.0",
      "model_name": "LayoutModel",
      "state": {
       "_model_module": "@jupyter-widgets/base",
       "_model_module_version": "1.2.0",
       "_model_name": "LayoutModel",
       "_view_count": null,
       "_view_module": "@jupyter-widgets/base",
       "_view_module_version": "1.2.0",
       "_view_name": "LayoutView",
       "align_content": null,
       "align_items": null,
       "align_self": null,
       "border": null,
       "bottom": null,
       "display": null,
       "flex": null,
       "flex_flow": null,
       "grid_area": null,
       "grid_auto_columns": null,
       "grid_auto_flow": null,
       "grid_auto_rows": null,
       "grid_column": null,
       "grid_gap": null,
       "grid_row": null,
       "grid_template_areas": null,
       "grid_template_columns": null,
       "grid_template_rows": null,
       "height": null,
       "justify_content": null,
       "justify_items": null,
       "left": null,
       "margin": null,
       "max_height": null,
       "max_width": null,
       "min_height": null,
       "min_width": null,
       "object_fit": null,
       "object_position": null,
       "order": null,
       "overflow": null,
       "overflow_x": null,
       "overflow_y": null,
       "padding": null,
       "right": null,
       "top": null,
       "visibility": null,
       "width": null
      }
     },
     "1c50ffe37e45458789ece4f4d3278cf2": {
      "model_module": "@jupyter-widgets/controls",
      "model_module_version": "1.5.0",
      "model_name": "HBoxModel",
      "state": {
       "_dom_classes": [],
       "_model_module": "@jupyter-widgets/controls",
       "_model_module_version": "1.5.0",
       "_model_name": "HBoxModel",
       "_view_count": null,
       "_view_module": "@jupyter-widgets/controls",
       "_view_module_version": "1.5.0",
       "_view_name": "HBoxView",
       "box_style": "",
       "children": [
        "IPY_MODEL_76662b0580554c599210311c00cb31c1",
        "IPY_MODEL_bbcbe43a5ccd4458afec1bcf2df5c94c",
        "IPY_MODEL_c82ce4d837e34737ad85eb83775002c8"
       ],
       "layout": "IPY_MODEL_cfb00b8c6e7e45948aef9eee58341fbe"
      }
     },
     "2dc24fbc8f3d4446abef2cf46d0188d2": {
      "model_module": "@jupyter-widgets/controls",
      "model_module_version": "1.5.0",
      "model_name": "HTMLModel",
      "state": {
       "_dom_classes": [],
       "_model_module": "@jupyter-widgets/controls",
       "_model_module_version": "1.5.0",
       "_model_name": "HTMLModel",
       "_view_count": null,
       "_view_module": "@jupyter-widgets/controls",
       "_view_module_version": "1.5.0",
       "_view_name": "HTMLView",
       "description": "",
       "description_tooltip": null,
       "layout": "IPY_MODEL_845cf8ff1267473ca072503dffa2a323",
       "placeholder": "​",
       "style": "IPY_MODEL_e26c28145174440c931a9fea45872766",
       "value": " 2.35M/2.35M [00:01&lt;00:00, 4.24MB/s]"
      }
     },
     "34e5da3e47f2446f979818134710569f": {
      "model_module": "@jupyter-widgets/controls",
      "model_module_version": "1.5.0",
      "model_name": "DescriptionStyleModel",
      "state": {
       "_model_module": "@jupyter-widgets/controls",
       "_model_module_version": "1.5.0",
       "_model_name": "DescriptionStyleModel",
       "_view_count": null,
       "_view_module": "@jupyter-widgets/base",
       "_view_module_version": "1.2.0",
       "_view_name": "StyleView",
       "description_width": ""
      }
     },
     "3854edae184f4a2d970efba4a29986e1": {
      "model_module": "@jupyter-widgets/controls",
      "model_module_version": "1.5.0",
      "model_name": "ProgressStyleModel",
      "state": {
       "_model_module": "@jupyter-widgets/controls",
       "_model_module_version": "1.5.0",
       "_model_name": "ProgressStyleModel",
       "_view_count": null,
       "_view_module": "@jupyter-widgets/base",
       "_view_module_version": "1.2.0",
       "_view_name": "StyleView",
       "bar_color": null,
       "description_width": ""
      }
     },
     "38ac5307cb3d4dad80b6807e9b42323e": {
      "model_module": "@jupyter-widgets/controls",
      "model_module_version": "1.5.0",
      "model_name": "ProgressStyleModel",
      "state": {
       "_model_module": "@jupyter-widgets/controls",
       "_model_module_version": "1.5.0",
       "_model_name": "ProgressStyleModel",
       "_view_count": null,
       "_view_module": "@jupyter-widgets/base",
       "_view_module_version": "1.2.0",
       "_view_name": "StyleView",
       "bar_color": null,
       "description_width": ""
      }
     },
     "390edac55f814d4eb3906ea11979b3ea": {
      "model_module": "@jupyter-widgets/controls",
      "model_module_version": "1.5.0",
      "model_name": "DescriptionStyleModel",
      "state": {
       "_model_module": "@jupyter-widgets/controls",
       "_model_module_version": "1.5.0",
       "_model_name": "DescriptionStyleModel",
       "_view_count": null,
       "_view_module": "@jupyter-widgets/base",
       "_view_module_version": "1.2.0",
       "_view_name": "StyleView",
       "description_width": ""
      }
     },
     "3aa936ce9eb04d618bc00cb9c1fad791": {
      "model_module": "@jupyter-widgets/base",
      "model_module_version": "1.2.0",
      "model_name": "LayoutModel",
      "state": {
       "_model_module": "@jupyter-widgets/base",
       "_model_module_version": "1.2.0",
       "_model_name": "LayoutModel",
       "_view_count": null,
       "_view_module": "@jupyter-widgets/base",
       "_view_module_version": "1.2.0",
       "_view_name": "LayoutView",
       "align_content": null,
       "align_items": null,
       "align_self": null,
       "border": null,
       "bottom": null,
       "display": null,
       "flex": null,
       "flex_flow": null,
       "grid_area": null,
       "grid_auto_columns": null,
       "grid_auto_flow": null,
       "grid_auto_rows": null,
       "grid_column": null,
       "grid_gap": null,
       "grid_row": null,
       "grid_template_areas": null,
       "grid_template_columns": null,
       "grid_template_rows": null,
       "height": null,
       "justify_content": null,
       "justify_items": null,
       "left": null,
       "margin": null,
       "max_height": null,
       "max_width": null,
       "min_height": null,
       "min_width": null,
       "object_fit": null,
       "object_position": null,
       "order": null,
       "overflow": null,
       "overflow_x": null,
       "overflow_y": null,
       "padding": null,
       "right": null,
       "top": null,
       "visibility": null,
       "width": null
      }
     },
     "3b54b176aef144f0b8d2d0150f9d9885": {
      "model_module": "@jupyter-widgets/base",
      "model_module_version": "1.2.0",
      "model_name": "LayoutModel",
      "state": {
       "_model_module": "@jupyter-widgets/base",
       "_model_module_version": "1.2.0",
       "_model_name": "LayoutModel",
       "_view_count": null,
       "_view_module": "@jupyter-widgets/base",
       "_view_module_version": "1.2.0",
       "_view_name": "LayoutView",
       "align_content": null,
       "align_items": null,
       "align_self": null,
       "border": null,
       "bottom": null,
       "display": null,
       "flex": null,
       "flex_flow": null,
       "grid_area": null,
       "grid_auto_columns": null,
       "grid_auto_flow": null,
       "grid_auto_rows": null,
       "grid_column": null,
       "grid_gap": null,
       "grid_row": null,
       "grid_template_areas": null,
       "grid_template_columns": null,
       "grid_template_rows": null,
       "height": null,
       "justify_content": null,
       "justify_items": null,
       "left": null,
       "margin": null,
       "max_height": null,
       "max_width": null,
       "min_height": null,
       "min_width": null,
       "object_fit": null,
       "object_position": null,
       "order": null,
       "overflow": null,
       "overflow_x": null,
       "overflow_y": null,
       "padding": null,
       "right": null,
       "top": null,
       "visibility": null,
       "width": null
      }
     },
     "400724cb69b540578bce277c4a149dfa": {
      "model_module": "@jupyter-widgets/base",
      "model_module_version": "1.2.0",
      "model_name": "LayoutModel",
      "state": {
       "_model_module": "@jupyter-widgets/base",
       "_model_module_version": "1.2.0",
       "_model_name": "LayoutModel",
       "_view_count": null,
       "_view_module": "@jupyter-widgets/base",
       "_view_module_version": "1.2.0",
       "_view_name": "LayoutView",
       "align_content": null,
       "align_items": null,
       "align_self": null,
       "border": null,
       "bottom": null,
       "display": null,
       "flex": null,
       "flex_flow": null,
       "grid_area": null,
       "grid_auto_columns": null,
       "grid_auto_flow": null,
       "grid_auto_rows": null,
       "grid_column": null,
       "grid_gap": null,
       "grid_row": null,
       "grid_template_areas": null,
       "grid_template_columns": null,
       "grid_template_rows": null,
       "height": null,
       "justify_content": null,
       "justify_items": null,
       "left": null,
       "margin": null,
       "max_height": null,
       "max_width": null,
       "min_height": null,
       "min_width": null,
       "object_fit": null,
       "object_position": null,
       "order": null,
       "overflow": null,
       "overflow_x": null,
       "overflow_y": null,
       "padding": null,
       "right": null,
       "top": null,
       "visibility": null,
       "width": null
      }
     },
     "4cb753dcb90147bbbdbadf495bedb4d4": {
      "model_module": "@jupyter-widgets/base",
      "model_module_version": "1.2.0",
      "model_name": "LayoutModel",
      "state": {
       "_model_module": "@jupyter-widgets/base",
       "_model_module_version": "1.2.0",
       "_model_name": "LayoutModel",
       "_view_count": null,
       "_view_module": "@jupyter-widgets/base",
       "_view_module_version": "1.2.0",
       "_view_name": "LayoutView",
       "align_content": null,
       "align_items": null,
       "align_self": null,
       "border": null,
       "bottom": null,
       "display": null,
       "flex": null,
       "flex_flow": null,
       "grid_area": null,
       "grid_auto_columns": null,
       "grid_auto_flow": null,
       "grid_auto_rows": null,
       "grid_column": null,
       "grid_gap": null,
       "grid_row": null,
       "grid_template_areas": null,
       "grid_template_columns": null,
       "grid_template_rows": null,
       "height": null,
       "justify_content": null,
       "justify_items": null,
       "left": null,
       "margin": null,
       "max_height": null,
       "max_width": null,
       "min_height": null,
       "min_width": null,
       "object_fit": null,
       "object_position": null,
       "order": null,
       "overflow": null,
       "overflow_x": null,
       "overflow_y": null,
       "padding": null,
       "right": null,
       "top": null,
       "visibility": null,
       "width": null
      }
     },
     "5c5d4a57538b4beb9c2ddcf599869d0d": {
      "model_module": "@jupyter-widgets/controls",
      "model_module_version": "1.5.0",
      "model_name": "HTMLModel",
      "state": {
       "_dom_classes": [],
       "_model_module": "@jupyter-widgets/controls",
       "_model_module_version": "1.5.0",
       "_model_name": "HTMLModel",
       "_view_count": null,
       "_view_module": "@jupyter-widgets/controls",
       "_view_module_version": "1.5.0",
       "_view_name": "HTMLView",
       "description": "",
       "description_tooltip": null,
       "layout": "IPY_MODEL_bb16df0ad182473db48bf0f4ee55510a",
       "placeholder": "​",
       "style": "IPY_MODEL_abe0771e5d964b2a8e823dcee3cd9a75",
       "value": "Downloading: 100%"
      }
     },
     "61f2369023ee449cbfeb087fda2a9dba": {
      "model_module": "@jupyter-widgets/base",
      "model_module_version": "1.2.0",
      "model_name": "LayoutModel",
      "state": {
       "_model_module": "@jupyter-widgets/base",
       "_model_module_version": "1.2.0",
       "_model_name": "LayoutModel",
       "_view_count": null,
       "_view_module": "@jupyter-widgets/base",
       "_view_module_version": "1.2.0",
       "_view_name": "LayoutView",
       "align_content": null,
       "align_items": null,
       "align_self": null,
       "border": null,
       "bottom": null,
       "display": null,
       "flex": null,
       "flex_flow": null,
       "grid_area": null,
       "grid_auto_columns": null,
       "grid_auto_flow": null,
       "grid_auto_rows": null,
       "grid_column": null,
       "grid_gap": null,
       "grid_row": null,
       "grid_template_areas": null,
       "grid_template_columns": null,
       "grid_template_rows": null,
       "height": null,
       "justify_content": null,
       "justify_items": null,
       "left": null,
       "margin": null,
       "max_height": null,
       "max_width": null,
       "min_height": null,
       "min_width": null,
       "object_fit": null,
       "object_position": null,
       "order": null,
       "overflow": null,
       "overflow_x": null,
       "overflow_y": null,
       "padding": null,
       "right": null,
       "top": null,
       "visibility": null,
       "width": null
      }
     },
     "720b14fac7e94166ae764d690226fb07": {
      "model_module": "@jupyter-widgets/base",
      "model_module_version": "1.2.0",
      "model_name": "LayoutModel",
      "state": {
       "_model_module": "@jupyter-widgets/base",
       "_model_module_version": "1.2.0",
       "_model_name": "LayoutModel",
       "_view_count": null,
       "_view_module": "@jupyter-widgets/base",
       "_view_module_version": "1.2.0",
       "_view_name": "LayoutView",
       "align_content": null,
       "align_items": null,
       "align_self": null,
       "border": null,
       "bottom": null,
       "display": null,
       "flex": null,
       "flex_flow": null,
       "grid_area": null,
       "grid_auto_columns": null,
       "grid_auto_flow": null,
       "grid_auto_rows": null,
       "grid_column": null,
       "grid_gap": null,
       "grid_row": null,
       "grid_template_areas": null,
       "grid_template_columns": null,
       "grid_template_rows": null,
       "height": null,
       "justify_content": null,
       "justify_items": null,
       "left": null,
       "margin": null,
       "max_height": null,
       "max_width": null,
       "min_height": null,
       "min_width": null,
       "object_fit": null,
       "object_position": null,
       "order": null,
       "overflow": null,
       "overflow_x": null,
       "overflow_y": null,
       "padding": null,
       "right": null,
       "top": null,
       "visibility": null,
       "width": null
      }
     },
     "7643ae7056a147968ceef36d0c6eac59": {
      "model_module": "@jupyter-widgets/controls",
      "model_module_version": "1.5.0",
      "model_name": "DescriptionStyleModel",
      "state": {
       "_model_module": "@jupyter-widgets/controls",
       "_model_module_version": "1.5.0",
       "_model_name": "DescriptionStyleModel",
       "_view_count": null,
       "_view_module": "@jupyter-widgets/base",
       "_view_module_version": "1.2.0",
       "_view_name": "StyleView",
       "description_width": ""
      }
     },
     "76662b0580554c599210311c00cb31c1": {
      "model_module": "@jupyter-widgets/controls",
      "model_module_version": "1.5.0",
      "model_name": "HTMLModel",
      "state": {
       "_dom_classes": [],
       "_model_module": "@jupyter-widgets/controls",
       "_model_module_version": "1.5.0",
       "_model_name": "HTMLModel",
       "_view_count": null,
       "_view_module": "@jupyter-widgets/controls",
       "_view_module_version": "1.5.0",
       "_view_name": "HTMLView",
       "description": "",
       "description_tooltip": null,
       "layout": "IPY_MODEL_14ee00a7b81143358b071f75c393f297",
       "placeholder": "​",
       "style": "IPY_MODEL_7643ae7056a147968ceef36d0c6eac59",
       "value": "Downloading: 100%"
      }
     },
     "7d5d22bd46fc4990ac193f4064d74fc2": {
      "model_module": "@jupyter-widgets/controls",
      "model_module_version": "1.5.0",
      "model_name": "FloatProgressModel",
      "state": {
       "_dom_classes": [],
       "_model_module": "@jupyter-widgets/controls",
       "_model_module_version": "1.5.0",
       "_model_name": "FloatProgressModel",
       "_view_count": null,
       "_view_module": "@jupyter-widgets/controls",
       "_view_module_version": "1.5.0",
       "_view_name": "ProgressView",
       "bar_style": "success",
       "description": "",
       "description_tooltip": null,
       "layout": "IPY_MODEL_720b14fac7e94166ae764d690226fb07",
       "max": 2464616,
       "min": 0,
       "orientation": "horizontal",
       "style": "IPY_MODEL_38ac5307cb3d4dad80b6807e9b42323e",
       "value": 2464616
      }
     },
     "7ef34bdcd8164283ae638b7557af0fe9": {
      "model_module": "@jupyter-widgets/base",
      "model_module_version": "1.2.0",
      "model_name": "LayoutModel",
      "state": {
       "_model_module": "@jupyter-widgets/base",
       "_model_module_version": "1.2.0",
       "_model_name": "LayoutModel",
       "_view_count": null,
       "_view_module": "@jupyter-widgets/base",
       "_view_module_version": "1.2.0",
       "_view_name": "LayoutView",
       "align_content": null,
       "align_items": null,
       "align_self": null,
       "border": null,
       "bottom": null,
       "display": null,
       "flex": null,
       "flex_flow": null,
       "grid_area": null,
       "grid_auto_columns": null,
       "grid_auto_flow": null,
       "grid_auto_rows": null,
       "grid_column": null,
       "grid_gap": null,
       "grid_row": null,
       "grid_template_areas": null,
       "grid_template_columns": null,
       "grid_template_rows": null,
       "height": null,
       "justify_content": null,
       "justify_items": null,
       "left": null,
       "margin": null,
       "max_height": null,
       "max_width": null,
       "min_height": null,
       "min_width": null,
       "object_fit": null,
       "object_position": null,
       "order": null,
       "overflow": null,
       "overflow_x": null,
       "overflow_y": null,
       "padding": null,
       "right": null,
       "top": null,
       "visibility": null,
       "width": null
      }
     },
     "845cf8ff1267473ca072503dffa2a323": {
      "model_module": "@jupyter-widgets/base",
      "model_module_version": "1.2.0",
      "model_name": "LayoutModel",
      "state": {
       "_model_module": "@jupyter-widgets/base",
       "_model_module_version": "1.2.0",
       "_model_name": "LayoutModel",
       "_view_count": null,
       "_view_module": "@jupyter-widgets/base",
       "_view_module_version": "1.2.0",
       "_view_name": "LayoutView",
       "align_content": null,
       "align_items": null,
       "align_self": null,
       "border": null,
       "bottom": null,
       "display": null,
       "flex": null,
       "flex_flow": null,
       "grid_area": null,
       "grid_auto_columns": null,
       "grid_auto_flow": null,
       "grid_auto_rows": null,
       "grid_column": null,
       "grid_gap": null,
       "grid_row": null,
       "grid_template_areas": null,
       "grid_template_columns": null,
       "grid_template_rows": null,
       "height": null,
       "justify_content": null,
       "justify_items": null,
       "left": null,
       "margin": null,
       "max_height": null,
       "max_width": null,
       "min_height": null,
       "min_width": null,
       "object_fit": null,
       "object_position": null,
       "order": null,
       "overflow": null,
       "overflow_x": null,
       "overflow_y": null,
       "padding": null,
       "right": null,
       "top": null,
       "visibility": null,
       "width": null
      }
     },
     "8dfb8e3be9eb4f11a6670c70f01f1c00": {
      "model_module": "@jupyter-widgets/controls",
      "model_module_version": "1.5.0",
      "model_name": "HBoxModel",
      "state": {
       "_dom_classes": [],
       "_model_module": "@jupyter-widgets/controls",
       "_model_module_version": "1.5.0",
       "_model_name": "HBoxModel",
       "_view_count": null,
       "_view_module": "@jupyter-widgets/controls",
       "_view_module_version": "1.5.0",
       "_view_name": "HBoxView",
       "box_style": "",
       "children": [
        "IPY_MODEL_901f0760a2184f8d90ed13fa115cc8d3",
        "IPY_MODEL_9dafc1432c874d3ea73380b9da22253a",
        "IPY_MODEL_a8699e6d3d9145d9a50a728eb64a6d1b"
       ],
       "layout": "IPY_MODEL_7ef34bdcd8164283ae638b7557af0fe9"
      }
     },
     "901f0760a2184f8d90ed13fa115cc8d3": {
      "model_module": "@jupyter-widgets/controls",
      "model_module_version": "1.5.0",
      "model_name": "HTMLModel",
      "state": {
       "_dom_classes": [],
       "_model_module": "@jupyter-widgets/controls",
       "_model_module_version": "1.5.0",
       "_model_name": "HTMLModel",
       "_view_count": null,
       "_view_module": "@jupyter-widgets/controls",
       "_view_module_version": "1.5.0",
       "_view_name": "HTMLView",
       "description": "",
       "description_tooltip": null,
       "layout": "IPY_MODEL_4cb753dcb90147bbbdbadf495bedb4d4",
       "placeholder": "​",
       "style": "IPY_MODEL_9775dc537e8346289a2fdd2b3c2aca6f",
       "value": "Downloading: 100%"
      }
     },
     "9775dc537e8346289a2fdd2b3c2aca6f": {
      "model_module": "@jupyter-widgets/controls",
      "model_module_version": "1.5.0",
      "model_name": "DescriptionStyleModel",
      "state": {
       "_model_module": "@jupyter-widgets/controls",
       "_model_module_version": "1.5.0",
       "_model_name": "DescriptionStyleModel",
       "_view_count": null,
       "_view_module": "@jupyter-widgets/base",
       "_view_module_version": "1.2.0",
       "_view_name": "StyleView",
       "description_width": ""
      }
     },
     "9868e8ade84c422dad0cbe409ebdb877": {
      "model_module": "@jupyter-widgets/controls",
      "model_module_version": "1.5.0",
      "model_name": "ProgressStyleModel",
      "state": {
       "_model_module": "@jupyter-widgets/controls",
       "_model_module_version": "1.5.0",
       "_model_name": "ProgressStyleModel",
       "_view_count": null,
       "_view_module": "@jupyter-widgets/base",
       "_view_module_version": "1.2.0",
       "_view_name": "StyleView",
       "bar_color": null,
       "description_width": ""
      }
     },
     "9dafc1432c874d3ea73380b9da22253a": {
      "model_module": "@jupyter-widgets/controls",
      "model_module_version": "1.5.0",
      "model_name": "FloatProgressModel",
      "state": {
       "_dom_classes": [],
       "_model_module": "@jupyter-widgets/controls",
       "_model_module_version": "1.5.0",
       "_model_name": "FloatProgressModel",
       "_view_count": null,
       "_view_module": "@jupyter-widgets/controls",
       "_view_module_version": "1.5.0",
       "_view_name": "ProgressView",
       "bar_style": "success",
       "description": "",
       "description_tooltip": null,
       "layout": "IPY_MODEL_a3d7c1b2ed6c4b25a5be1c6c15412d85",
       "max": 371146213,
       "min": 0,
       "orientation": "horizontal",
       "style": "IPY_MODEL_9868e8ade84c422dad0cbe409ebdb877",
       "value": 371146213
      }
     },
     "a3d7c1b2ed6c4b25a5be1c6c15412d85": {
      "model_module": "@jupyter-widgets/base",
      "model_module_version": "1.2.0",
      "model_name": "LayoutModel",
      "state": {
       "_model_module": "@jupyter-widgets/base",
       "_model_module_version": "1.2.0",
       "_model_name": "LayoutModel",
       "_view_count": null,
       "_view_module": "@jupyter-widgets/base",
       "_view_module_version": "1.2.0",
       "_view_name": "LayoutView",
       "align_content": null,
       "align_items": null,
       "align_self": null,
       "border": null,
       "bottom": null,
       "display": null,
       "flex": null,
       "flex_flow": null,
       "grid_area": null,
       "grid_auto_columns": null,
       "grid_auto_flow": null,
       "grid_auto_rows": null,
       "grid_column": null,
       "grid_gap": null,
       "grid_row": null,
       "grid_template_areas": null,
       "grid_template_columns": null,
       "grid_template_rows": null,
       "height": null,
       "justify_content": null,
       "justify_items": null,
       "left": null,
       "margin": null,
       "max_height": null,
       "max_width": null,
       "min_height": null,
       "min_width": null,
       "object_fit": null,
       "object_position": null,
       "order": null,
       "overflow": null,
       "overflow_x": null,
       "overflow_y": null,
       "padding": null,
       "right": null,
       "top": null,
       "visibility": null,
       "width": null
      }
     },
     "a8699e6d3d9145d9a50a728eb64a6d1b": {
      "model_module": "@jupyter-widgets/controls",
      "model_module_version": "1.5.0",
      "model_name": "HTMLModel",
      "state": {
       "_dom_classes": [],
       "_model_module": "@jupyter-widgets/controls",
       "_model_module_version": "1.5.0",
       "_model_name": "HTMLModel",
       "_view_count": null,
       "_view_module": "@jupyter-widgets/controls",
       "_view_module_version": "1.5.0",
       "_view_name": "HTMLView",
       "description": "",
       "description_tooltip": null,
       "layout": "IPY_MODEL_de8def01c3054a599a6ea06823be90b8",
       "placeholder": "​",
       "style": "IPY_MODEL_d0a35c13cc104bc6ba57012e2cf25b31",
       "value": " 354M/354M [00:26&lt;00:00, 15.7MB/s]"
      }
     },
     "abe0771e5d964b2a8e823dcee3cd9a75": {
      "model_module": "@jupyter-widgets/controls",
      "model_module_version": "1.5.0",
      "model_name": "DescriptionStyleModel",
      "state": {
       "_model_module": "@jupyter-widgets/controls",
       "_model_module_version": "1.5.0",
       "_model_name": "DescriptionStyleModel",
       "_view_count": null,
       "_view_module": "@jupyter-widgets/base",
       "_view_module_version": "1.2.0",
       "_view_name": "StyleView",
       "description_width": ""
      }
     },
     "bb16df0ad182473db48bf0f4ee55510a": {
      "model_module": "@jupyter-widgets/base",
      "model_module_version": "1.2.0",
      "model_name": "LayoutModel",
      "state": {
       "_model_module": "@jupyter-widgets/base",
       "_model_module_version": "1.2.0",
       "_model_name": "LayoutModel",
       "_view_count": null,
       "_view_module": "@jupyter-widgets/base",
       "_view_module_version": "1.2.0",
       "_view_name": "LayoutView",
       "align_content": null,
       "align_items": null,
       "align_self": null,
       "border": null,
       "bottom": null,
       "display": null,
       "flex": null,
       "flex_flow": null,
       "grid_area": null,
       "grid_auto_columns": null,
       "grid_auto_flow": null,
       "grid_auto_rows": null,
       "grid_column": null,
       "grid_gap": null,
       "grid_row": null,
       "grid_template_areas": null,
       "grid_template_columns": null,
       "grid_template_rows": null,
       "height": null,
       "justify_content": null,
       "justify_items": null,
       "left": null,
       "margin": null,
       "max_height": null,
       "max_width": null,
       "min_height": null,
       "min_width": null,
       "object_fit": null,
       "object_position": null,
       "order": null,
       "overflow": null,
       "overflow_x": null,
       "overflow_y": null,
       "padding": null,
       "right": null,
       "top": null,
       "visibility": null,
       "width": null
      }
     },
     "bbcbe43a5ccd4458afec1bcf2df5c94c": {
      "model_module": "@jupyter-widgets/controls",
      "model_module_version": "1.5.0",
      "model_name": "FloatProgressModel",
      "state": {
       "_dom_classes": [],
       "_model_module": "@jupyter-widgets/controls",
       "_model_module_version": "1.5.0",
       "_model_name": "FloatProgressModel",
       "_view_count": null,
       "_view_module": "@jupyter-widgets/controls",
       "_view_module_version": "1.5.0",
       "_view_name": "ProgressView",
       "bar_style": "success",
       "description": "",
       "description_tooltip": null,
       "layout": "IPY_MODEL_61f2369023ee449cbfeb087fda2a9dba",
       "max": 52,
       "min": 0,
       "orientation": "horizontal",
       "style": "IPY_MODEL_3854edae184f4a2d970efba4a29986e1",
       "value": 52
      }
     },
     "c82ce4d837e34737ad85eb83775002c8": {
      "model_module": "@jupyter-widgets/controls",
      "model_module_version": "1.5.0",
      "model_name": "HTMLModel",
      "state": {
       "_dom_classes": [],
       "_model_module": "@jupyter-widgets/controls",
       "_model_module_version": "1.5.0",
       "_model_name": "HTMLModel",
       "_view_count": null,
       "_view_module": "@jupyter-widgets/controls",
       "_view_module_version": "1.5.0",
       "_view_name": "HTMLView",
       "description": "",
       "description_tooltip": null,
       "layout": "IPY_MODEL_400724cb69b540578bce277c4a149dfa",
       "placeholder": "​",
       "style": "IPY_MODEL_34e5da3e47f2446f979818134710569f",
       "value": " 52.0/52.0 [00:00&lt;00:00, 1.72kB/s]"
      }
     },
     "cfb00b8c6e7e45948aef9eee58341fbe": {
      "model_module": "@jupyter-widgets/base",
      "model_module_version": "1.2.0",
      "model_name": "LayoutModel",
      "state": {
       "_model_module": "@jupyter-widgets/base",
       "_model_module_version": "1.2.0",
       "_model_name": "LayoutModel",
       "_view_count": null,
       "_view_module": "@jupyter-widgets/base",
       "_view_module_version": "1.2.0",
       "_view_name": "LayoutView",
       "align_content": null,
       "align_items": null,
       "align_self": null,
       "border": null,
       "bottom": null,
       "display": null,
       "flex": null,
       "flex_flow": null,
       "grid_area": null,
       "grid_auto_columns": null,
       "grid_auto_flow": null,
       "grid_auto_rows": null,
       "grid_column": null,
       "grid_gap": null,
       "grid_row": null,
       "grid_template_areas": null,
       "grid_template_columns": null,
       "grid_template_rows": null,
       "height": null,
       "justify_content": null,
       "justify_items": null,
       "left": null,
       "margin": null,
       "max_height": null,
       "max_width": null,
       "min_height": null,
       "min_width": null,
       "object_fit": null,
       "object_position": null,
       "order": null,
       "overflow": null,
       "overflow_x": null,
       "overflow_y": null,
       "padding": null,
       "right": null,
       "top": null,
       "visibility": null,
       "width": null
      }
     },
     "d0a35c13cc104bc6ba57012e2cf25b31": {
      "model_module": "@jupyter-widgets/controls",
      "model_module_version": "1.5.0",
      "model_name": "DescriptionStyleModel",
      "state": {
       "_model_module": "@jupyter-widgets/controls",
       "_model_module_version": "1.5.0",
       "_model_name": "DescriptionStyleModel",
       "_view_count": null,
       "_view_module": "@jupyter-widgets/base",
       "_view_module_version": "1.2.0",
       "_view_name": "StyleView",
       "description_width": ""
      }
     },
     "d104f1192897499d924fdad03f3d1281": {
      "model_module": "@jupyter-widgets/controls",
      "model_module_version": "1.5.0",
      "model_name": "DescriptionStyleModel",
      "state": {
       "_model_module": "@jupyter-widgets/controls",
       "_model_module_version": "1.5.0",
       "_model_name": "DescriptionStyleModel",
       "_view_count": null,
       "_view_module": "@jupyter-widgets/base",
       "_view_module_version": "1.2.0",
       "_view_name": "StyleView",
       "description_width": ""
      }
     },
     "de8def01c3054a599a6ea06823be90b8": {
      "model_module": "@jupyter-widgets/base",
      "model_module_version": "1.2.0",
      "model_name": "LayoutModel",
      "state": {
       "_model_module": "@jupyter-widgets/base",
       "_model_module_version": "1.2.0",
       "_model_name": "LayoutModel",
       "_view_count": null,
       "_view_module": "@jupyter-widgets/base",
       "_view_module_version": "1.2.0",
       "_view_name": "LayoutView",
       "align_content": null,
       "align_items": null,
       "align_self": null,
       "border": null,
       "bottom": null,
       "display": null,
       "flex": null,
       "flex_flow": null,
       "grid_area": null,
       "grid_auto_columns": null,
       "grid_auto_flow": null,
       "grid_auto_rows": null,
       "grid_column": null,
       "grid_gap": null,
       "grid_row": null,
       "grid_template_areas": null,
       "grid_template_columns": null,
       "grid_template_rows": null,
       "height": null,
       "justify_content": null,
       "justify_items": null,
       "left": null,
       "margin": null,
       "max_height": null,
       "max_width": null,
       "min_height": null,
       "min_width": null,
       "object_fit": null,
       "object_position": null,
       "order": null,
       "overflow": null,
       "overflow_x": null,
       "overflow_y": null,
       "padding": null,
       "right": null,
       "top": null,
       "visibility": null,
       "width": null
      }
     },
     "e26c28145174440c931a9fea45872766": {
      "model_module": "@jupyter-widgets/controls",
      "model_module_version": "1.5.0",
      "model_name": "DescriptionStyleModel",
      "state": {
       "_model_module": "@jupyter-widgets/controls",
       "_model_module_version": "1.5.0",
       "_model_name": "DescriptionStyleModel",
       "_view_count": null,
       "_view_module": "@jupyter-widgets/base",
       "_view_module_version": "1.2.0",
       "_view_name": "StyleView",
       "description_width": ""
      }
     },
     "e592e3809c1d40198d8621f71084396e": {
      "model_module": "@jupyter-widgets/controls",
      "model_module_version": "1.5.0",
      "model_name": "HTMLModel",
      "state": {
       "_dom_classes": [],
       "_model_module": "@jupyter-widgets/controls",
       "_model_module_version": "1.5.0",
       "_model_name": "HTMLModel",
       "_view_count": null,
       "_view_module": "@jupyter-widgets/controls",
       "_view_module_version": "1.5.0",
       "_view_name": "HTMLView",
       "description": "",
       "description_tooltip": null,
       "layout": "IPY_MODEL_074c764bfa494b7d98779187b6ae72ed",
       "placeholder": "​",
       "style": "IPY_MODEL_390edac55f814d4eb3906ea11979b3ea",
       "value": "Downloading: 100%"
      }
     },
     "f37cd162a3ef41f596ed4058c4b2e90d": {
      "model_module": "@jupyter-widgets/controls",
      "model_module_version": "1.5.0",
      "model_name": "ProgressStyleModel",
      "state": {
       "_model_module": "@jupyter-widgets/controls",
       "_model_module_version": "1.5.0",
       "_model_name": "ProgressStyleModel",
       "_view_count": null,
       "_view_module": "@jupyter-widgets/base",
       "_view_module_version": "1.2.0",
       "_view_name": "StyleView",
       "bar_color": null,
       "description_width": ""
      }
     },
     "f6ca973cf8604f2ba59580155fcb6436": {
      "model_module": "@jupyter-widgets/controls",
      "model_module_version": "1.5.0",
      "model_name": "HBoxModel",
      "state": {
       "_dom_classes": [],
       "_model_module": "@jupyter-widgets/controls",
       "_model_module_version": "1.5.0",
       "_model_name": "HBoxModel",
       "_view_count": null,
       "_view_module": "@jupyter-widgets/controls",
       "_view_module_version": "1.5.0",
       "_view_name": "HBoxView",
       "box_style": "",
       "children": [
        "IPY_MODEL_e592e3809c1d40198d8621f71084396e",
        "IPY_MODEL_0ed0f1f97f2a4eb4bb0df085688cb44d",
        "IPY_MODEL_018f361777a641f3b3e86867ce9734a7"
       ],
       "layout": "IPY_MODEL_3aa936ce9eb04d618bc00cb9c1fad791"
      }
     },
     "fd44d432872143c7aa425d2bb01762d3": {
      "model_module": "@jupyter-widgets/base",
      "model_module_version": "1.2.0",
      "model_name": "LayoutModel",
      "state": {
       "_model_module": "@jupyter-widgets/base",
       "_model_module_version": "1.2.0",
       "_model_name": "LayoutModel",
       "_view_count": null,
       "_view_module": "@jupyter-widgets/base",
       "_view_module_version": "1.2.0",
       "_view_name": "LayoutView",
       "align_content": null,
       "align_items": null,
       "align_self": null,
       "border": null,
       "bottom": null,
       "display": null,
       "flex": null,
       "flex_flow": null,
       "grid_area": null,
       "grid_auto_columns": null,
       "grid_auto_flow": null,
       "grid_auto_rows": null,
       "grid_column": null,
       "grid_gap": null,
       "grid_row": null,
       "grid_template_areas": null,
       "grid_template_columns": null,
       "grid_template_rows": null,
       "height": null,
       "justify_content": null,
       "justify_items": null,
       "left": null,
       "margin": null,
       "max_height": null,
       "max_width": null,
       "min_height": null,
       "min_width": null,
       "object_fit": null,
       "object_position": null,
       "order": null,
       "overflow": null,
       "overflow_x": null,
       "overflow_y": null,
       "padding": null,
       "right": null,
       "top": null,
       "visibility": null,
       "width": null
      }
     }
    },
    "version_major": 2,
    "version_minor": 0
   }
  }
 },
 "nbformat": 4,
 "nbformat_minor": 5
}
